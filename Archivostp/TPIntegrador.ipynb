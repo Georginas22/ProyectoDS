{
  "nbformat": 4,
  "nbformat_minor": 0,
  "metadata": {
    "colab": {
      "provenance": [],
      "toc_visible": true
    },
    "kernelspec": {
      "name": "python3",
      "display_name": "Python 3"
    },
    "language_info": {
      "name": "python"
    }
  },
  "cells": [
    {
      "cell_type": "markdown",
      "source": [
        "# Contexto\n",
        "Se disponde de una muestra de la empresa \"Big Carrier\" con datos de ventas, información de pedidos, clientes, envíos, etc. Esta empresa tiene sede central en Canadá y se dedica a la comercialización, a nivel internacional, de medios de transportes de pequeño, mediano y gran porte.\n",
        "\n",
        "El objetivo de este análisis es proporcionar estadísticas correspondientes al dataset recibido, así como identificar operaciones a optimizar que permitan ampliar su presencia a nivel global.Poder identificar características generales de los clientes, en relación a sus pedidos.\n",
        "\n",
        "Estructura del dataset:\n",
        "* ORDERNUMBER: número de pedido\n",
        "* QUANTITYORDERED:cantidad pedida\n",
        "* PRICEEACH: precio unitario en dólares\n",
        "* ORDERLINENUMBER: número de línea del pedido\n",
        "* SALES: monto total de la venta en en dólares\n",
        "* ORDERDATE: fecha del pedido; formato mm/dd/yyyy h:mm\n",
        "* STATUS: estado del pedido (Cancelled, Disputed, In Process, On Hold, Resolved, Shipped)\n",
        "* QTR_ID: se desconoce la definición de este campo\n",
        "* MONTH_ID: número de mes correspondiente a ORDERDATE\n",
        "* YEAR_ID: año correspondiente a ORDERDATE\n",
        "* PRODUCTLINE: categoría de producto\n",
        "* MSRP: Manufacturer Suggested Retail Price (Precio de venta sugerido por el fabricante)\n",
        "* PRODUCTCODE: código del producto\n",
        "* CUSTOMERNAME: nombre del cliente\n",
        "* PHONE: teléfono del cliente\n",
        "* ADDRESSLINE1: dirección del cliente\n",
        "* ADDRESSLINE2: otra dirección del cliente\n",
        "* CITY: ciudad del cliente\n",
        "* STATE: estado al cual corresponde la ciudad\n",
        "* POSTALCODE: código postal\n",
        "* COUNTRY: País\n",
        "* TERRITORY: nombre del territorio al cual corresponde el país\n",
        "* CONTACTLASTNAME: apellido del contacto del cliente\n",
        "* CONTACTFIRSTNAME: nombre del contacto del cliente\n",
        "* DEALSIZE: tamaño de la operación\n",
        "\n",
        "\n",
        "**Fuente**: https://www.kaggle.com/datasets/kyanyoga/sample-sales-data?resource=download&select=sales_data_sample.csv"
      ],
      "metadata": {
        "id": "6l2VWLmC0I1T"
      }
    },
    {
      "cell_type": "markdown",
      "source": [
        "# DataSet"
      ],
      "metadata": {
        "id": "zq1odMrk70FI"
      }
    },
    {
      "cell_type": "markdown",
      "source": [
        "### 1. Carga de datos a dataframe desde archivo .csv"
      ],
      "metadata": {
        "id": "N_oQo-gG2blS"
      }
    },
    {
      "cell_type": "code",
      "source": [
        "import pandas as pd"
      ],
      "metadata": {
        "id": "gj7PFgjA1Th1"
      },
      "execution_count": 94,
      "outputs": []
    },
    {
      "cell_type": "code",
      "source": [
        "ventas = pd.read_excel('/content/drive/MyDrive/GS-Documentos/Cursos-/Data Science[UTN BA]/TP Integrador/sales_data_sample.xlsx');"
      ],
      "metadata": {
        "id": "ZXqPoaNS4plO"
      },
      "execution_count": 95,
      "outputs": []
    },
    {
      "cell_type": "markdown",
      "source": [
        "### 2. Descripción general del dataframe"
      ],
      "metadata": {
        "id": "nLqjsbuE8Lii"
      }
    },
    {
      "cell_type": "code",
      "source": [
        "#Dimensión (cantidad filas/columnas)\n",
        "ventas.shape"
      ],
      "metadata": {
        "id": "aaEBC6Th8QRJ",
        "colab": {
          "base_uri": "https://localhost:8080/"
        },
        "outputId": "0c9a83fc-6317-44a9-f000-a00888ef8290"
      },
      "execution_count": 96,
      "outputs": [
        {
          "output_type": "execute_result",
          "data": {
            "text/plain": [
              "(2823, 25)"
            ]
          },
          "metadata": {},
          "execution_count": 96
        }
      ]
    },
    {
      "cell_type": "code",
      "source": [
        "ventas.info()"
      ],
      "metadata": {
        "id": "nu90l0Bagf39",
        "colab": {
          "base_uri": "https://localhost:8080/"
        },
        "outputId": "b5f407ea-41b7-4e57-cc2f-e02db8221bfc"
      },
      "execution_count": 97,
      "outputs": [
        {
          "output_type": "stream",
          "name": "stdout",
          "text": [
            "<class 'pandas.core.frame.DataFrame'>\n",
            "RangeIndex: 2823 entries, 0 to 2822\n",
            "Data columns (total 25 columns):\n",
            " #   Column            Non-Null Count  Dtype  \n",
            "---  ------            --------------  -----  \n",
            " 0   ORDERNUMBER       2823 non-null   int64  \n",
            " 1   QUANTITYORDERED   2823 non-null   int64  \n",
            " 2   PRICEEACH         2823 non-null   float64\n",
            " 3   ORDERLINENUMBER   2823 non-null   int64  \n",
            " 4   SALES             2823 non-null   float64\n",
            " 5   ORDERDATE         2823 non-null   object \n",
            " 6   STATUS            2823 non-null   object \n",
            " 7   QTR_ID            2823 non-null   int64  \n",
            " 8   MONTH_ID          2823 non-null   int64  \n",
            " 9   YEAR_ID           2823 non-null   int64  \n",
            " 10  PRODUCTLINE       2823 non-null   object \n",
            " 11  MSRP              2823 non-null   int64  \n",
            " 12  PRODUCTCODE       2823 non-null   object \n",
            " 13  CUSTOMERNAME      2823 non-null   object \n",
            " 14  PHONE             2823 non-null   object \n",
            " 15  ADDRESSLINE1      2823 non-null   object \n",
            " 16  ADDRESSLINE2      302 non-null    object \n",
            " 17  CITY              2823 non-null   object \n",
            " 18  STATE             1337 non-null   object \n",
            " 19  POSTALCODE        2747 non-null   object \n",
            " 20  COUNTRY           2823 non-null   object \n",
            " 21  TERRITORY         1749 non-null   object \n",
            " 22  CONTACTLASTNAME   2823 non-null   object \n",
            " 23  CONTACTFIRSTNAME  2823 non-null   object \n",
            " 24  DEALSIZE          2823 non-null   object \n",
            "dtypes: float64(2), int64(7), object(16)\n",
            "memory usage: 551.5+ KB\n"
          ]
        }
      ]
    },
    {
      "cell_type": "code",
      "source": [
        "#Columnas del dataframe\n",
        "ventas.columns"
      ],
      "metadata": {
        "id": "o0K3SdmZqwIn",
        "colab": {
          "base_uri": "https://localhost:8080/"
        },
        "outputId": "01c43e19-f780-4a71-cdb7-0a39e540e557"
      },
      "execution_count": 98,
      "outputs": [
        {
          "output_type": "execute_result",
          "data": {
            "text/plain": [
              "Index(['ORDERNUMBER', 'QUANTITYORDERED', 'PRICEEACH', 'ORDERLINENUMBER',\n",
              "       'SALES', 'ORDERDATE', 'STATUS', 'QTR_ID', 'MONTH_ID', 'YEAR_ID',\n",
              "       'PRODUCTLINE', 'MSRP', 'PRODUCTCODE', 'CUSTOMERNAME', 'PHONE',\n",
              "       'ADDRESSLINE1', 'ADDRESSLINE2', 'CITY', 'STATE', 'POSTALCODE',\n",
              "       'COUNTRY', 'TERRITORY', 'CONTACTLASTNAME', 'CONTACTFIRSTNAME',\n",
              "       'DEALSIZE'],\n",
              "      dtype='object')"
            ]
          },
          "metadata": {},
          "execution_count": 98
        }
      ]
    },
    {
      "cell_type": "code",
      "source": [
        "#Tipo de dato de cada columna\n",
        "ventas.dtypes"
      ],
      "metadata": {
        "id": "y8i1LVSJH3aT",
        "colab": {
          "base_uri": "https://localhost:8080/"
        },
        "outputId": "ab10adfc-d4f7-4e6d-d0e7-5aa7363fdd28"
      },
      "execution_count": 99,
      "outputs": [
        {
          "output_type": "execute_result",
          "data": {
            "text/plain": [
              "ORDERNUMBER           int64\n",
              "QUANTITYORDERED       int64\n",
              "PRICEEACH           float64\n",
              "ORDERLINENUMBER       int64\n",
              "SALES               float64\n",
              "ORDERDATE            object\n",
              "STATUS               object\n",
              "QTR_ID                int64\n",
              "MONTH_ID              int64\n",
              "YEAR_ID               int64\n",
              "PRODUCTLINE          object\n",
              "MSRP                  int64\n",
              "PRODUCTCODE          object\n",
              "CUSTOMERNAME         object\n",
              "PHONE                object\n",
              "ADDRESSLINE1         object\n",
              "ADDRESSLINE2         object\n",
              "CITY                 object\n",
              "STATE                object\n",
              "POSTALCODE           object\n",
              "COUNTRY              object\n",
              "TERRITORY            object\n",
              "CONTACTLASTNAME      object\n",
              "CONTACTFIRSTNAME     object\n",
              "DEALSIZE             object\n",
              "dtype: object"
            ]
          },
          "metadata": {},
          "execution_count": 99
        }
      ]
    },
    {
      "cell_type": "code",
      "source": [
        "#Periodo de ventas disponibles\n",
        "periodo = ventas.groupby('YEAR_ID')['MONTH_ID'].agg(menor=\"min\", mayor=\"max\")\n",
        "print(periodo)"
      ],
      "metadata": {
        "id": "3P846q--sFJP",
        "colab": {
          "base_uri": "https://localhost:8080/"
        },
        "outputId": "4398fe7d-57cf-47cc-dac8-03f690d25beb"
      },
      "execution_count": 100,
      "outputs": [
        {
          "output_type": "stream",
          "name": "stdout",
          "text": [
            "         menor  mayor\n",
            "YEAR_ID              \n",
            "2003         1     12\n",
            "2004         1     12\n",
            "2005         1      5\n"
          ]
        }
      ]
    },
    {
      "cell_type": "code",
      "source": [
        "#Visualización de las primeras 10 filas\n",
        "ventas.head(10)"
      ],
      "metadata": {
        "id": "gWTDHHddDdpc",
        "colab": {
          "base_uri": "https://localhost:8080/",
          "height": 682
        },
        "outputId": "fb738795-d1eb-4310-a4c2-da0ba3d1a25f"
      },
      "execution_count": 101,
      "outputs": [
        {
          "output_type": "execute_result",
          "data": {
            "text/plain": [
              "   ORDERNUMBER  QUANTITYORDERED  PRICEEACH  ORDERLINENUMBER    SALES  \\\n",
              "0        10107               30      95.70                2  2871.00   \n",
              "1        10121               34      81.35                5  2765.90   \n",
              "2        10134               41      94.74                2  3884.34   \n",
              "3        10145               45      83.26                6  3746.70   \n",
              "4        10159               49     100.00               14  5205.27   \n",
              "5        10168               36      96.66                1  3479.76   \n",
              "6        10180               29      86.13                9  2497.77   \n",
              "7        10188               48     100.00                1  5512.32   \n",
              "8        10201               22      98.57                2  2168.54   \n",
              "9        10211               41     100.00               14  4708.44   \n",
              "\n",
              "         ORDERDATE   STATUS  QTR_ID  MONTH_ID  YEAR_ID  ...  \\\n",
              "0   2/24/2003 0:00  Shipped       1         2     2003  ...   \n",
              "1    5/7/2003 0:00  Shipped       2         5     2003  ...   \n",
              "2    7/1/2003 0:00  Shipped       3         7     2003  ...   \n",
              "3   8/25/2003 0:00  Shipped       3         8     2003  ...   \n",
              "4  10/10/2003 0:00  Shipped       4        10     2003  ...   \n",
              "5  10/28/2003 0:00  Shipped       4        10     2003  ...   \n",
              "6  11/11/2003 0:00  Shipped       4        11     2003  ...   \n",
              "7  11/18/2003 0:00  Shipped       4        11     2003  ...   \n",
              "8   12/1/2003 0:00  Shipped       4        12     2003  ...   \n",
              "9   1/15/2004 0:00  Shipped       1         1     2004  ...   \n",
              "\n",
              "                    ADDRESSLINE1  ADDRESSLINE2           CITY STATE  \\\n",
              "0        897 Long Airport Avenue           NaN            NYC    NY   \n",
              "1             59 rue de l'Abbaye           NaN          Reims   NaN   \n",
              "2  27 rue du Colonel Pierre Avia           NaN          Paris   NaN   \n",
              "3             78934 Hillside Dr.           NaN       Pasadena    CA   \n",
              "4                7734 Strong St.           NaN  San Francisco    CA   \n",
              "5              9408 Furth Circle           NaN     Burlingame    CA   \n",
              "6        184, chausse de Tournai           NaN          Lille   NaN   \n",
              "7    Drammen 121, PR 744 Sentrum           NaN         Bergen   NaN   \n",
              "8      5557 North Pendale Street           NaN  San Francisco    CA   \n",
              "9              25, rue Lauriston           NaN          Paris   NaN   \n",
              "\n",
              "  POSTALCODE COUNTRY TERRITORY CONTACTLASTNAME CONTACTFIRSTNAME DEALSIZE  \n",
              "0      10022     USA       NaN              Yu             Kwai    Small  \n",
              "1      51100  France      EMEA         Henriot             Paul    Small  \n",
              "2      75508  France      EMEA        Da Cunha           Daniel   Medium  \n",
              "3      90003     USA       NaN           Young            Julie   Medium  \n",
              "4        NaN     USA       NaN           Brown            Julie   Medium  \n",
              "5      94217     USA       NaN          Hirano             Juri   Medium  \n",
              "6      59000  France      EMEA           Rance          Martine    Small  \n",
              "7     N 5804  Norway      EMEA          Oeztan           Veysel   Medium  \n",
              "8        NaN     USA       NaN          Murphy            Julie    Small  \n",
              "9      75016  France      EMEA         Perrier        Dominique   Medium  \n",
              "\n",
              "[10 rows x 25 columns]"
            ],
            "text/html": [
              "\n",
              "\n",
              "  <div id=\"df-497490d0-8643-4b2e-a3ef-2f3ab6d5750a\">\n",
              "    <div class=\"colab-df-container\">\n",
              "      <div>\n",
              "<style scoped>\n",
              "    .dataframe tbody tr th:only-of-type {\n",
              "        vertical-align: middle;\n",
              "    }\n",
              "\n",
              "    .dataframe tbody tr th {\n",
              "        vertical-align: top;\n",
              "    }\n",
              "\n",
              "    .dataframe thead th {\n",
              "        text-align: right;\n",
              "    }\n",
              "</style>\n",
              "<table border=\"1\" class=\"dataframe\">\n",
              "  <thead>\n",
              "    <tr style=\"text-align: right;\">\n",
              "      <th></th>\n",
              "      <th>ORDERNUMBER</th>\n",
              "      <th>QUANTITYORDERED</th>\n",
              "      <th>PRICEEACH</th>\n",
              "      <th>ORDERLINENUMBER</th>\n",
              "      <th>SALES</th>\n",
              "      <th>ORDERDATE</th>\n",
              "      <th>STATUS</th>\n",
              "      <th>QTR_ID</th>\n",
              "      <th>MONTH_ID</th>\n",
              "      <th>YEAR_ID</th>\n",
              "      <th>...</th>\n",
              "      <th>ADDRESSLINE1</th>\n",
              "      <th>ADDRESSLINE2</th>\n",
              "      <th>CITY</th>\n",
              "      <th>STATE</th>\n",
              "      <th>POSTALCODE</th>\n",
              "      <th>COUNTRY</th>\n",
              "      <th>TERRITORY</th>\n",
              "      <th>CONTACTLASTNAME</th>\n",
              "      <th>CONTACTFIRSTNAME</th>\n",
              "      <th>DEALSIZE</th>\n",
              "    </tr>\n",
              "  </thead>\n",
              "  <tbody>\n",
              "    <tr>\n",
              "      <th>0</th>\n",
              "      <td>10107</td>\n",
              "      <td>30</td>\n",
              "      <td>95.70</td>\n",
              "      <td>2</td>\n",
              "      <td>2871.00</td>\n",
              "      <td>2/24/2003 0:00</td>\n",
              "      <td>Shipped</td>\n",
              "      <td>1</td>\n",
              "      <td>2</td>\n",
              "      <td>2003</td>\n",
              "      <td>...</td>\n",
              "      <td>897 Long Airport Avenue</td>\n",
              "      <td>NaN</td>\n",
              "      <td>NYC</td>\n",
              "      <td>NY</td>\n",
              "      <td>10022</td>\n",
              "      <td>USA</td>\n",
              "      <td>NaN</td>\n",
              "      <td>Yu</td>\n",
              "      <td>Kwai</td>\n",
              "      <td>Small</td>\n",
              "    </tr>\n",
              "    <tr>\n",
              "      <th>1</th>\n",
              "      <td>10121</td>\n",
              "      <td>34</td>\n",
              "      <td>81.35</td>\n",
              "      <td>5</td>\n",
              "      <td>2765.90</td>\n",
              "      <td>5/7/2003 0:00</td>\n",
              "      <td>Shipped</td>\n",
              "      <td>2</td>\n",
              "      <td>5</td>\n",
              "      <td>2003</td>\n",
              "      <td>...</td>\n",
              "      <td>59 rue de l'Abbaye</td>\n",
              "      <td>NaN</td>\n",
              "      <td>Reims</td>\n",
              "      <td>NaN</td>\n",
              "      <td>51100</td>\n",
              "      <td>France</td>\n",
              "      <td>EMEA</td>\n",
              "      <td>Henriot</td>\n",
              "      <td>Paul</td>\n",
              "      <td>Small</td>\n",
              "    </tr>\n",
              "    <tr>\n",
              "      <th>2</th>\n",
              "      <td>10134</td>\n",
              "      <td>41</td>\n",
              "      <td>94.74</td>\n",
              "      <td>2</td>\n",
              "      <td>3884.34</td>\n",
              "      <td>7/1/2003 0:00</td>\n",
              "      <td>Shipped</td>\n",
              "      <td>3</td>\n",
              "      <td>7</td>\n",
              "      <td>2003</td>\n",
              "      <td>...</td>\n",
              "      <td>27 rue du Colonel Pierre Avia</td>\n",
              "      <td>NaN</td>\n",
              "      <td>Paris</td>\n",
              "      <td>NaN</td>\n",
              "      <td>75508</td>\n",
              "      <td>France</td>\n",
              "      <td>EMEA</td>\n",
              "      <td>Da Cunha</td>\n",
              "      <td>Daniel</td>\n",
              "      <td>Medium</td>\n",
              "    </tr>\n",
              "    <tr>\n",
              "      <th>3</th>\n",
              "      <td>10145</td>\n",
              "      <td>45</td>\n",
              "      <td>83.26</td>\n",
              "      <td>6</td>\n",
              "      <td>3746.70</td>\n",
              "      <td>8/25/2003 0:00</td>\n",
              "      <td>Shipped</td>\n",
              "      <td>3</td>\n",
              "      <td>8</td>\n",
              "      <td>2003</td>\n",
              "      <td>...</td>\n",
              "      <td>78934 Hillside Dr.</td>\n",
              "      <td>NaN</td>\n",
              "      <td>Pasadena</td>\n",
              "      <td>CA</td>\n",
              "      <td>90003</td>\n",
              "      <td>USA</td>\n",
              "      <td>NaN</td>\n",
              "      <td>Young</td>\n",
              "      <td>Julie</td>\n",
              "      <td>Medium</td>\n",
              "    </tr>\n",
              "    <tr>\n",
              "      <th>4</th>\n",
              "      <td>10159</td>\n",
              "      <td>49</td>\n",
              "      <td>100.00</td>\n",
              "      <td>14</td>\n",
              "      <td>5205.27</td>\n",
              "      <td>10/10/2003 0:00</td>\n",
              "      <td>Shipped</td>\n",
              "      <td>4</td>\n",
              "      <td>10</td>\n",
              "      <td>2003</td>\n",
              "      <td>...</td>\n",
              "      <td>7734 Strong St.</td>\n",
              "      <td>NaN</td>\n",
              "      <td>San Francisco</td>\n",
              "      <td>CA</td>\n",
              "      <td>NaN</td>\n",
              "      <td>USA</td>\n",
              "      <td>NaN</td>\n",
              "      <td>Brown</td>\n",
              "      <td>Julie</td>\n",
              "      <td>Medium</td>\n",
              "    </tr>\n",
              "    <tr>\n",
              "      <th>5</th>\n",
              "      <td>10168</td>\n",
              "      <td>36</td>\n",
              "      <td>96.66</td>\n",
              "      <td>1</td>\n",
              "      <td>3479.76</td>\n",
              "      <td>10/28/2003 0:00</td>\n",
              "      <td>Shipped</td>\n",
              "      <td>4</td>\n",
              "      <td>10</td>\n",
              "      <td>2003</td>\n",
              "      <td>...</td>\n",
              "      <td>9408 Furth Circle</td>\n",
              "      <td>NaN</td>\n",
              "      <td>Burlingame</td>\n",
              "      <td>CA</td>\n",
              "      <td>94217</td>\n",
              "      <td>USA</td>\n",
              "      <td>NaN</td>\n",
              "      <td>Hirano</td>\n",
              "      <td>Juri</td>\n",
              "      <td>Medium</td>\n",
              "    </tr>\n",
              "    <tr>\n",
              "      <th>6</th>\n",
              "      <td>10180</td>\n",
              "      <td>29</td>\n",
              "      <td>86.13</td>\n",
              "      <td>9</td>\n",
              "      <td>2497.77</td>\n",
              "      <td>11/11/2003 0:00</td>\n",
              "      <td>Shipped</td>\n",
              "      <td>4</td>\n",
              "      <td>11</td>\n",
              "      <td>2003</td>\n",
              "      <td>...</td>\n",
              "      <td>184, chausse de Tournai</td>\n",
              "      <td>NaN</td>\n",
              "      <td>Lille</td>\n",
              "      <td>NaN</td>\n",
              "      <td>59000</td>\n",
              "      <td>France</td>\n",
              "      <td>EMEA</td>\n",
              "      <td>Rance</td>\n",
              "      <td>Martine</td>\n",
              "      <td>Small</td>\n",
              "    </tr>\n",
              "    <tr>\n",
              "      <th>7</th>\n",
              "      <td>10188</td>\n",
              "      <td>48</td>\n",
              "      <td>100.00</td>\n",
              "      <td>1</td>\n",
              "      <td>5512.32</td>\n",
              "      <td>11/18/2003 0:00</td>\n",
              "      <td>Shipped</td>\n",
              "      <td>4</td>\n",
              "      <td>11</td>\n",
              "      <td>2003</td>\n",
              "      <td>...</td>\n",
              "      <td>Drammen 121, PR 744 Sentrum</td>\n",
              "      <td>NaN</td>\n",
              "      <td>Bergen</td>\n",
              "      <td>NaN</td>\n",
              "      <td>N 5804</td>\n",
              "      <td>Norway</td>\n",
              "      <td>EMEA</td>\n",
              "      <td>Oeztan</td>\n",
              "      <td>Veysel</td>\n",
              "      <td>Medium</td>\n",
              "    </tr>\n",
              "    <tr>\n",
              "      <th>8</th>\n",
              "      <td>10201</td>\n",
              "      <td>22</td>\n",
              "      <td>98.57</td>\n",
              "      <td>2</td>\n",
              "      <td>2168.54</td>\n",
              "      <td>12/1/2003 0:00</td>\n",
              "      <td>Shipped</td>\n",
              "      <td>4</td>\n",
              "      <td>12</td>\n",
              "      <td>2003</td>\n",
              "      <td>...</td>\n",
              "      <td>5557 North Pendale Street</td>\n",
              "      <td>NaN</td>\n",
              "      <td>San Francisco</td>\n",
              "      <td>CA</td>\n",
              "      <td>NaN</td>\n",
              "      <td>USA</td>\n",
              "      <td>NaN</td>\n",
              "      <td>Murphy</td>\n",
              "      <td>Julie</td>\n",
              "      <td>Small</td>\n",
              "    </tr>\n",
              "    <tr>\n",
              "      <th>9</th>\n",
              "      <td>10211</td>\n",
              "      <td>41</td>\n",
              "      <td>100.00</td>\n",
              "      <td>14</td>\n",
              "      <td>4708.44</td>\n",
              "      <td>1/15/2004 0:00</td>\n",
              "      <td>Shipped</td>\n",
              "      <td>1</td>\n",
              "      <td>1</td>\n",
              "      <td>2004</td>\n",
              "      <td>...</td>\n",
              "      <td>25, rue Lauriston</td>\n",
              "      <td>NaN</td>\n",
              "      <td>Paris</td>\n",
              "      <td>NaN</td>\n",
              "      <td>75016</td>\n",
              "      <td>France</td>\n",
              "      <td>EMEA</td>\n",
              "      <td>Perrier</td>\n",
              "      <td>Dominique</td>\n",
              "      <td>Medium</td>\n",
              "    </tr>\n",
              "  </tbody>\n",
              "</table>\n",
              "<p>10 rows × 25 columns</p>\n",
              "</div>\n",
              "      <button class=\"colab-df-convert\" onclick=\"convertToInteractive('df-497490d0-8643-4b2e-a3ef-2f3ab6d5750a')\"\n",
              "              title=\"Convert this dataframe to an interactive table.\"\n",
              "              style=\"display:none;\">\n",
              "\n",
              "  <svg xmlns=\"http://www.w3.org/2000/svg\" height=\"24px\"viewBox=\"0 0 24 24\"\n",
              "       width=\"24px\">\n",
              "    <path d=\"M0 0h24v24H0V0z\" fill=\"none\"/>\n",
              "    <path d=\"M18.56 5.44l.94 2.06.94-2.06 2.06-.94-2.06-.94-.94-2.06-.94 2.06-2.06.94zm-11 1L8.5 8.5l.94-2.06 2.06-.94-2.06-.94L8.5 2.5l-.94 2.06-2.06.94zm10 10l.94 2.06.94-2.06 2.06-.94-2.06-.94-.94-2.06-.94 2.06-2.06.94z\"/><path d=\"M17.41 7.96l-1.37-1.37c-.4-.4-.92-.59-1.43-.59-.52 0-1.04.2-1.43.59L10.3 9.45l-7.72 7.72c-.78.78-.78 2.05 0 2.83L4 21.41c.39.39.9.59 1.41.59.51 0 1.02-.2 1.41-.59l7.78-7.78 2.81-2.81c.8-.78.8-2.07 0-2.86zM5.41 20L4 18.59l7.72-7.72 1.47 1.35L5.41 20z\"/>\n",
              "  </svg>\n",
              "      </button>\n",
              "\n",
              "\n",
              "\n",
              "    <div id=\"df-250eb52e-feb6-45da-b162-0c0365e90f5a\">\n",
              "      <button class=\"colab-df-quickchart\" onclick=\"quickchart('df-250eb52e-feb6-45da-b162-0c0365e90f5a')\"\n",
              "              title=\"Suggest charts.\"\n",
              "              style=\"display:none;\">\n",
              "\n",
              "<svg xmlns=\"http://www.w3.org/2000/svg\" height=\"24px\"viewBox=\"0 0 24 24\"\n",
              "     width=\"24px\">\n",
              "    <g>\n",
              "        <path d=\"M19 3H5c-1.1 0-2 .9-2 2v14c0 1.1.9 2 2 2h14c1.1 0 2-.9 2-2V5c0-1.1-.9-2-2-2zM9 17H7v-7h2v7zm4 0h-2V7h2v10zm4 0h-2v-4h2v4z\"/>\n",
              "    </g>\n",
              "</svg>\n",
              "      </button>\n",
              "    </div>\n",
              "\n",
              "<style>\n",
              "  .colab-df-quickchart {\n",
              "    background-color: #E8F0FE;\n",
              "    border: none;\n",
              "    border-radius: 50%;\n",
              "    cursor: pointer;\n",
              "    display: none;\n",
              "    fill: #1967D2;\n",
              "    height: 32px;\n",
              "    padding: 0 0 0 0;\n",
              "    width: 32px;\n",
              "  }\n",
              "\n",
              "  .colab-df-quickchart:hover {\n",
              "    background-color: #E2EBFA;\n",
              "    box-shadow: 0px 1px 2px rgba(60, 64, 67, 0.3), 0px 1px 3px 1px rgba(60, 64, 67, 0.15);\n",
              "    fill: #174EA6;\n",
              "  }\n",
              "\n",
              "  [theme=dark] .colab-df-quickchart {\n",
              "    background-color: #3B4455;\n",
              "    fill: #D2E3FC;\n",
              "  }\n",
              "\n",
              "  [theme=dark] .colab-df-quickchart:hover {\n",
              "    background-color: #434B5C;\n",
              "    box-shadow: 0px 1px 3px 1px rgba(0, 0, 0, 0.15);\n",
              "    filter: drop-shadow(0px 1px 2px rgba(0, 0, 0, 0.3));\n",
              "    fill: #FFFFFF;\n",
              "  }\n",
              "</style>\n",
              "\n",
              "    <script>\n",
              "      async function quickchart(key) {\n",
              "        const containerElement = document.querySelector('#' + key);\n",
              "        const charts = await google.colab.kernel.invokeFunction(\n",
              "            'suggestCharts', [key], {});\n",
              "      }\n",
              "    </script>\n",
              "\n",
              "      <script>\n",
              "\n",
              "function displayQuickchartButton(domScope) {\n",
              "  let quickchartButtonEl =\n",
              "    domScope.querySelector('#df-250eb52e-feb6-45da-b162-0c0365e90f5a button.colab-df-quickchart');\n",
              "  quickchartButtonEl.style.display =\n",
              "    google.colab.kernel.accessAllowed ? 'block' : 'none';\n",
              "}\n",
              "\n",
              "        displayQuickchartButton(document);\n",
              "      </script>\n",
              "      <style>\n",
              "    .colab-df-container {\n",
              "      display:flex;\n",
              "      flex-wrap:wrap;\n",
              "      gap: 12px;\n",
              "    }\n",
              "\n",
              "    .colab-df-convert {\n",
              "      background-color: #E8F0FE;\n",
              "      border: none;\n",
              "      border-radius: 50%;\n",
              "      cursor: pointer;\n",
              "      display: none;\n",
              "      fill: #1967D2;\n",
              "      height: 32px;\n",
              "      padding: 0 0 0 0;\n",
              "      width: 32px;\n",
              "    }\n",
              "\n",
              "    .colab-df-convert:hover {\n",
              "      background-color: #E2EBFA;\n",
              "      box-shadow: 0px 1px 2px rgba(60, 64, 67, 0.3), 0px 1px 3px 1px rgba(60, 64, 67, 0.15);\n",
              "      fill: #174EA6;\n",
              "    }\n",
              "\n",
              "    [theme=dark] .colab-df-convert {\n",
              "      background-color: #3B4455;\n",
              "      fill: #D2E3FC;\n",
              "    }\n",
              "\n",
              "    [theme=dark] .colab-df-convert:hover {\n",
              "      background-color: #434B5C;\n",
              "      box-shadow: 0px 1px 3px 1px rgba(0, 0, 0, 0.15);\n",
              "      filter: drop-shadow(0px 1px 2px rgba(0, 0, 0, 0.3));\n",
              "      fill: #FFFFFF;\n",
              "    }\n",
              "  </style>\n",
              "\n",
              "      <script>\n",
              "        const buttonEl =\n",
              "          document.querySelector('#df-497490d0-8643-4b2e-a3ef-2f3ab6d5750a button.colab-df-convert');\n",
              "        buttonEl.style.display =\n",
              "          google.colab.kernel.accessAllowed ? 'block' : 'none';\n",
              "\n",
              "        async function convertToInteractive(key) {\n",
              "          const element = document.querySelector('#df-497490d0-8643-4b2e-a3ef-2f3ab6d5750a');\n",
              "          const dataTable =\n",
              "            await google.colab.kernel.invokeFunction('convertToInteractive',\n",
              "                                                     [key], {});\n",
              "          if (!dataTable) return;\n",
              "\n",
              "          const docLinkHtml = 'Like what you see? Visit the ' +\n",
              "            '<a target=\"_blank\" href=https://colab.research.google.com/notebooks/data_table.ipynb>data table notebook</a>'\n",
              "            + ' to learn more about interactive tables.';\n",
              "          element.innerHTML = '';\n",
              "          dataTable['output_type'] = 'display_data';\n",
              "          await google.colab.output.renderOutput(dataTable, element);\n",
              "          const docLink = document.createElement('div');\n",
              "          docLink.innerHTML = docLinkHtml;\n",
              "          element.appendChild(docLink);\n",
              "        }\n",
              "      </script>\n",
              "    </div>\n",
              "  </div>\n"
            ]
          },
          "metadata": {},
          "execution_count": 101
        }
      ]
    },
    {
      "cell_type": "markdown",
      "source": [
        "### 3. Verificación y limpieza de datos"
      ],
      "metadata": {
        "id": "nQdX_7UhNrr0"
      }
    },
    {
      "cell_type": "markdown",
      "source": [
        "3.1.Verificación de datos nulos, inválidos y/o repetidos"
      ],
      "metadata": {
        "id": "WThBEdhf4ZeW"
      }
    },
    {
      "cell_type": "code",
      "source": [
        "#Cuenta de valores nulos por columna\n",
        "ventas.isnull().sum()"
      ],
      "metadata": {
        "id": "6uQah6vxFD6Z",
        "colab": {
          "base_uri": "https://localhost:8080/"
        },
        "outputId": "2df24f0b-e7e8-4140-b4cb-62837a045978"
      },
      "execution_count": 102,
      "outputs": [
        {
          "output_type": "execute_result",
          "data": {
            "text/plain": [
              "ORDERNUMBER            0\n",
              "QUANTITYORDERED        0\n",
              "PRICEEACH              0\n",
              "ORDERLINENUMBER        0\n",
              "SALES                  0\n",
              "ORDERDATE              0\n",
              "STATUS                 0\n",
              "QTR_ID                 0\n",
              "MONTH_ID               0\n",
              "YEAR_ID                0\n",
              "PRODUCTLINE            0\n",
              "MSRP                   0\n",
              "PRODUCTCODE            0\n",
              "CUSTOMERNAME           0\n",
              "PHONE                  0\n",
              "ADDRESSLINE1           0\n",
              "ADDRESSLINE2        2521\n",
              "CITY                   0\n",
              "STATE               1486\n",
              "POSTALCODE            76\n",
              "COUNTRY                0\n",
              "TERRITORY           1074\n",
              "CONTACTLASTNAME        0\n",
              "CONTACTFIRSTNAME       0\n",
              "DEALSIZE               0\n",
              "dtype: int64"
            ]
          },
          "metadata": {},
          "execution_count": 102
        }
      ]
    },
    {
      "cell_type": "code",
      "source": [
        "ventas.isna().sum()"
      ],
      "metadata": {
        "id": "8RT9DBmWroHc",
        "colab": {
          "base_uri": "https://localhost:8080/"
        },
        "outputId": "996832a6-25e6-40fd-ce8e-6e53767fcd8a"
      },
      "execution_count": 103,
      "outputs": [
        {
          "output_type": "execute_result",
          "data": {
            "text/plain": [
              "ORDERNUMBER            0\n",
              "QUANTITYORDERED        0\n",
              "PRICEEACH              0\n",
              "ORDERLINENUMBER        0\n",
              "SALES                  0\n",
              "ORDERDATE              0\n",
              "STATUS                 0\n",
              "QTR_ID                 0\n",
              "MONTH_ID               0\n",
              "YEAR_ID                0\n",
              "PRODUCTLINE            0\n",
              "MSRP                   0\n",
              "PRODUCTCODE            0\n",
              "CUSTOMERNAME           0\n",
              "PHONE                  0\n",
              "ADDRESSLINE1           0\n",
              "ADDRESSLINE2        2521\n",
              "CITY                   0\n",
              "STATE               1486\n",
              "POSTALCODE            76\n",
              "COUNTRY                0\n",
              "TERRITORY           1074\n",
              "CONTACTLASTNAME        0\n",
              "CONTACTFIRSTNAME       0\n",
              "DEALSIZE               0\n",
              "dtype: int64"
            ]
          },
          "metadata": {},
          "execution_count": 103
        }
      ]
    },
    {
      "cell_type": "code",
      "source": [
        "#Registros duplicados\n",
        "ventas.duplicated()"
      ],
      "metadata": {
        "id": "12NCMAfex3dQ",
        "colab": {
          "base_uri": "https://localhost:8080/"
        },
        "outputId": "a1d09b83-d371-43b7-af04-46d9fd3923b2"
      },
      "execution_count": 104,
      "outputs": [
        {
          "output_type": "execute_result",
          "data": {
            "text/plain": [
              "0       False\n",
              "1       False\n",
              "2       False\n",
              "3       False\n",
              "4       False\n",
              "        ...  \n",
              "2818    False\n",
              "2819    False\n",
              "2820    False\n",
              "2821    False\n",
              "2822    False\n",
              "Length: 2823, dtype: bool"
            ]
          },
          "metadata": {},
          "execution_count": 104
        }
      ]
    },
    {
      "cell_type": "code",
      "source": [
        "#Datos agrupados por nro de pedido y código de producto para detectar si el mismo código de producto aparece más de una vez en el mismo pedido\n",
        "productos=ventas[['ORDERNUMBER','PRODUCTCODE']].sort_values('ORDERNUMBER')\n",
        "productos.duplicated()"
      ],
      "metadata": {
        "id": "288zCDolzA_E",
        "colab": {
          "base_uri": "https://localhost:8080/"
        },
        "outputId": "4816b7d3-8a9c-45fb-9221-9f848e7904ef"
      },
      "execution_count": 105,
      "outputs": [
        {
          "output_type": "execute_result",
          "data": {
            "text/plain": [
              "578     False\n",
              "2024    False\n",
              "680     False\n",
              "1267    False\n",
              "728     False\n",
              "        ...  \n",
              "2405    False\n",
              "393     False\n",
              "160     False\n",
              "780     False\n",
              "727     False\n",
              "Length: 2823, dtype: bool"
            ]
          },
          "metadata": {},
          "execution_count": 105
        }
      ]
    },
    {
      "cell_type": "code",
      "source": [
        "#Hace lo mismo que lo anterior (?)\n",
        "ventas.duplicated(['ORDERNUMBER','PRODUCTCODE'])"
      ],
      "metadata": {
        "id": "HWFtWeCP0_TY",
        "colab": {
          "base_uri": "https://localhost:8080/"
        },
        "outputId": "c19b338f-c836-41e5-a60c-516a2637f961"
      },
      "execution_count": 106,
      "outputs": [
        {
          "output_type": "execute_result",
          "data": {
            "text/plain": [
              "0       False\n",
              "1       False\n",
              "2       False\n",
              "3       False\n",
              "4       False\n",
              "        ...  \n",
              "2818    False\n",
              "2819    False\n",
              "2820    False\n",
              "2821    False\n",
              "2822    False\n",
              "Length: 2823, dtype: bool"
            ]
          },
          "metadata": {},
          "execution_count": 106
        }
      ]
    },
    {
      "cell_type": "code",
      "source": [
        "#Precio unitario con valor menor a cero (dato inválido)\n",
        "ventas.loc[ventas['PRICEEACH'] < 0]"
      ],
      "metadata": {
        "id": "punZ5rDfKNEy",
        "colab": {
          "base_uri": "https://localhost:8080/",
          "height": 143
        },
        "outputId": "2a6c19cc-2a17-4d95-c24c-7b8d993ddec5"
      },
      "execution_count": 107,
      "outputs": [
        {
          "output_type": "execute_result",
          "data": {
            "text/plain": [
              "Empty DataFrame\n",
              "Columns: [ORDERNUMBER, QUANTITYORDERED, PRICEEACH, ORDERLINENUMBER, SALES, ORDERDATE, STATUS, QTR_ID, MONTH_ID, YEAR_ID, PRODUCTLINE, MSRP, PRODUCTCODE, CUSTOMERNAME, PHONE, ADDRESSLINE1, ADDRESSLINE2, CITY, STATE, POSTALCODE, COUNTRY, TERRITORY, CONTACTLASTNAME, CONTACTFIRSTNAME, DEALSIZE]\n",
              "Index: []\n",
              "\n",
              "[0 rows x 25 columns]"
            ],
            "text/html": [
              "\n",
              "\n",
              "  <div id=\"df-98ccdf0c-1120-4807-a6a5-3c5b0f1dde7f\">\n",
              "    <div class=\"colab-df-container\">\n",
              "      <div>\n",
              "<style scoped>\n",
              "    .dataframe tbody tr th:only-of-type {\n",
              "        vertical-align: middle;\n",
              "    }\n",
              "\n",
              "    .dataframe tbody tr th {\n",
              "        vertical-align: top;\n",
              "    }\n",
              "\n",
              "    .dataframe thead th {\n",
              "        text-align: right;\n",
              "    }\n",
              "</style>\n",
              "<table border=\"1\" class=\"dataframe\">\n",
              "  <thead>\n",
              "    <tr style=\"text-align: right;\">\n",
              "      <th></th>\n",
              "      <th>ORDERNUMBER</th>\n",
              "      <th>QUANTITYORDERED</th>\n",
              "      <th>PRICEEACH</th>\n",
              "      <th>ORDERLINENUMBER</th>\n",
              "      <th>SALES</th>\n",
              "      <th>ORDERDATE</th>\n",
              "      <th>STATUS</th>\n",
              "      <th>QTR_ID</th>\n",
              "      <th>MONTH_ID</th>\n",
              "      <th>YEAR_ID</th>\n",
              "      <th>...</th>\n",
              "      <th>ADDRESSLINE1</th>\n",
              "      <th>ADDRESSLINE2</th>\n",
              "      <th>CITY</th>\n",
              "      <th>STATE</th>\n",
              "      <th>POSTALCODE</th>\n",
              "      <th>COUNTRY</th>\n",
              "      <th>TERRITORY</th>\n",
              "      <th>CONTACTLASTNAME</th>\n",
              "      <th>CONTACTFIRSTNAME</th>\n",
              "      <th>DEALSIZE</th>\n",
              "    </tr>\n",
              "  </thead>\n",
              "  <tbody>\n",
              "  </tbody>\n",
              "</table>\n",
              "<p>0 rows × 25 columns</p>\n",
              "</div>\n",
              "      <button class=\"colab-df-convert\" onclick=\"convertToInteractive('df-98ccdf0c-1120-4807-a6a5-3c5b0f1dde7f')\"\n",
              "              title=\"Convert this dataframe to an interactive table.\"\n",
              "              style=\"display:none;\">\n",
              "\n",
              "  <svg xmlns=\"http://www.w3.org/2000/svg\" height=\"24px\"viewBox=\"0 0 24 24\"\n",
              "       width=\"24px\">\n",
              "    <path d=\"M0 0h24v24H0V0z\" fill=\"none\"/>\n",
              "    <path d=\"M18.56 5.44l.94 2.06.94-2.06 2.06-.94-2.06-.94-.94-2.06-.94 2.06-2.06.94zm-11 1L8.5 8.5l.94-2.06 2.06-.94-2.06-.94L8.5 2.5l-.94 2.06-2.06.94zm10 10l.94 2.06.94-2.06 2.06-.94-2.06-.94-.94-2.06-.94 2.06-2.06.94z\"/><path d=\"M17.41 7.96l-1.37-1.37c-.4-.4-.92-.59-1.43-.59-.52 0-1.04.2-1.43.59L10.3 9.45l-7.72 7.72c-.78.78-.78 2.05 0 2.83L4 21.41c.39.39.9.59 1.41.59.51 0 1.02-.2 1.41-.59l7.78-7.78 2.81-2.81c.8-.78.8-2.07 0-2.86zM5.41 20L4 18.59l7.72-7.72 1.47 1.35L5.41 20z\"/>\n",
              "  </svg>\n",
              "      </button>\n",
              "\n",
              "\n",
              "\n",
              "    <div id=\"df-d30e61c0-af26-495e-8b66-34ad03520cae\">\n",
              "      <button class=\"colab-df-quickchart\" onclick=\"quickchart('df-d30e61c0-af26-495e-8b66-34ad03520cae')\"\n",
              "              title=\"Suggest charts.\"\n",
              "              style=\"display:none;\">\n",
              "\n",
              "<svg xmlns=\"http://www.w3.org/2000/svg\" height=\"24px\"viewBox=\"0 0 24 24\"\n",
              "     width=\"24px\">\n",
              "    <g>\n",
              "        <path d=\"M19 3H5c-1.1 0-2 .9-2 2v14c0 1.1.9 2 2 2h14c1.1 0 2-.9 2-2V5c0-1.1-.9-2-2-2zM9 17H7v-7h2v7zm4 0h-2V7h2v10zm4 0h-2v-4h2v4z\"/>\n",
              "    </g>\n",
              "</svg>\n",
              "      </button>\n",
              "    </div>\n",
              "\n",
              "<style>\n",
              "  .colab-df-quickchart {\n",
              "    background-color: #E8F0FE;\n",
              "    border: none;\n",
              "    border-radius: 50%;\n",
              "    cursor: pointer;\n",
              "    display: none;\n",
              "    fill: #1967D2;\n",
              "    height: 32px;\n",
              "    padding: 0 0 0 0;\n",
              "    width: 32px;\n",
              "  }\n",
              "\n",
              "  .colab-df-quickchart:hover {\n",
              "    background-color: #E2EBFA;\n",
              "    box-shadow: 0px 1px 2px rgba(60, 64, 67, 0.3), 0px 1px 3px 1px rgba(60, 64, 67, 0.15);\n",
              "    fill: #174EA6;\n",
              "  }\n",
              "\n",
              "  [theme=dark] .colab-df-quickchart {\n",
              "    background-color: #3B4455;\n",
              "    fill: #D2E3FC;\n",
              "  }\n",
              "\n",
              "  [theme=dark] .colab-df-quickchart:hover {\n",
              "    background-color: #434B5C;\n",
              "    box-shadow: 0px 1px 3px 1px rgba(0, 0, 0, 0.15);\n",
              "    filter: drop-shadow(0px 1px 2px rgba(0, 0, 0, 0.3));\n",
              "    fill: #FFFFFF;\n",
              "  }\n",
              "</style>\n",
              "\n",
              "    <script>\n",
              "      async function quickchart(key) {\n",
              "        const containerElement = document.querySelector('#' + key);\n",
              "        const charts = await google.colab.kernel.invokeFunction(\n",
              "            'suggestCharts', [key], {});\n",
              "      }\n",
              "    </script>\n",
              "\n",
              "      <script>\n",
              "\n",
              "function displayQuickchartButton(domScope) {\n",
              "  let quickchartButtonEl =\n",
              "    domScope.querySelector('#df-d30e61c0-af26-495e-8b66-34ad03520cae button.colab-df-quickchart');\n",
              "  quickchartButtonEl.style.display =\n",
              "    google.colab.kernel.accessAllowed ? 'block' : 'none';\n",
              "}\n",
              "\n",
              "        displayQuickchartButton(document);\n",
              "      </script>\n",
              "      <style>\n",
              "    .colab-df-container {\n",
              "      display:flex;\n",
              "      flex-wrap:wrap;\n",
              "      gap: 12px;\n",
              "    }\n",
              "\n",
              "    .colab-df-convert {\n",
              "      background-color: #E8F0FE;\n",
              "      border: none;\n",
              "      border-radius: 50%;\n",
              "      cursor: pointer;\n",
              "      display: none;\n",
              "      fill: #1967D2;\n",
              "      height: 32px;\n",
              "      padding: 0 0 0 0;\n",
              "      width: 32px;\n",
              "    }\n",
              "\n",
              "    .colab-df-convert:hover {\n",
              "      background-color: #E2EBFA;\n",
              "      box-shadow: 0px 1px 2px rgba(60, 64, 67, 0.3), 0px 1px 3px 1px rgba(60, 64, 67, 0.15);\n",
              "      fill: #174EA6;\n",
              "    }\n",
              "\n",
              "    [theme=dark] .colab-df-convert {\n",
              "      background-color: #3B4455;\n",
              "      fill: #D2E3FC;\n",
              "    }\n",
              "\n",
              "    [theme=dark] .colab-df-convert:hover {\n",
              "      background-color: #434B5C;\n",
              "      box-shadow: 0px 1px 3px 1px rgba(0, 0, 0, 0.15);\n",
              "      filter: drop-shadow(0px 1px 2px rgba(0, 0, 0, 0.3));\n",
              "      fill: #FFFFFF;\n",
              "    }\n",
              "  </style>\n",
              "\n",
              "      <script>\n",
              "        const buttonEl =\n",
              "          document.querySelector('#df-98ccdf0c-1120-4807-a6a5-3c5b0f1dde7f button.colab-df-convert');\n",
              "        buttonEl.style.display =\n",
              "          google.colab.kernel.accessAllowed ? 'block' : 'none';\n",
              "\n",
              "        async function convertToInteractive(key) {\n",
              "          const element = document.querySelector('#df-98ccdf0c-1120-4807-a6a5-3c5b0f1dde7f');\n",
              "          const dataTable =\n",
              "            await google.colab.kernel.invokeFunction('convertToInteractive',\n",
              "                                                     [key], {});\n",
              "          if (!dataTable) return;\n",
              "\n",
              "          const docLinkHtml = 'Like what you see? Visit the ' +\n",
              "            '<a target=\"_blank\" href=https://colab.research.google.com/notebooks/data_table.ipynb>data table notebook</a>'\n",
              "            + ' to learn more about interactive tables.';\n",
              "          element.innerHTML = '';\n",
              "          dataTable['output_type'] = 'display_data';\n",
              "          await google.colab.output.renderOutput(dataTable, element);\n",
              "          const docLink = document.createElement('div');\n",
              "          docLink.innerHTML = docLinkHtml;\n",
              "          element.appendChild(docLink);\n",
              "        }\n",
              "      </script>\n",
              "    </div>\n",
              "  </div>\n"
            ]
          },
          "metadata": {},
          "execution_count": 107
        }
      ]
    },
    {
      "cell_type": "code",
      "source": [
        "#Precio total con valor menor a cero (dato inválido)\n",
        "ventas.loc[ventas['SALES'] < 0]"
      ],
      "metadata": {
        "id": "xlhswGFdh83z",
        "colab": {
          "base_uri": "https://localhost:8080/",
          "height": 143
        },
        "outputId": "2cb6424f-e4ae-4a46-bdb8-3354e1f392c4"
      },
      "execution_count": 108,
      "outputs": [
        {
          "output_type": "execute_result",
          "data": {
            "text/plain": [
              "Empty DataFrame\n",
              "Columns: [ORDERNUMBER, QUANTITYORDERED, PRICEEACH, ORDERLINENUMBER, SALES, ORDERDATE, STATUS, QTR_ID, MONTH_ID, YEAR_ID, PRODUCTLINE, MSRP, PRODUCTCODE, CUSTOMERNAME, PHONE, ADDRESSLINE1, ADDRESSLINE2, CITY, STATE, POSTALCODE, COUNTRY, TERRITORY, CONTACTLASTNAME, CONTACTFIRSTNAME, DEALSIZE]\n",
              "Index: []\n",
              "\n",
              "[0 rows x 25 columns]"
            ],
            "text/html": [
              "\n",
              "\n",
              "  <div id=\"df-b866e3e6-3256-4276-b928-bb9eeb00d6a5\">\n",
              "    <div class=\"colab-df-container\">\n",
              "      <div>\n",
              "<style scoped>\n",
              "    .dataframe tbody tr th:only-of-type {\n",
              "        vertical-align: middle;\n",
              "    }\n",
              "\n",
              "    .dataframe tbody tr th {\n",
              "        vertical-align: top;\n",
              "    }\n",
              "\n",
              "    .dataframe thead th {\n",
              "        text-align: right;\n",
              "    }\n",
              "</style>\n",
              "<table border=\"1\" class=\"dataframe\">\n",
              "  <thead>\n",
              "    <tr style=\"text-align: right;\">\n",
              "      <th></th>\n",
              "      <th>ORDERNUMBER</th>\n",
              "      <th>QUANTITYORDERED</th>\n",
              "      <th>PRICEEACH</th>\n",
              "      <th>ORDERLINENUMBER</th>\n",
              "      <th>SALES</th>\n",
              "      <th>ORDERDATE</th>\n",
              "      <th>STATUS</th>\n",
              "      <th>QTR_ID</th>\n",
              "      <th>MONTH_ID</th>\n",
              "      <th>YEAR_ID</th>\n",
              "      <th>...</th>\n",
              "      <th>ADDRESSLINE1</th>\n",
              "      <th>ADDRESSLINE2</th>\n",
              "      <th>CITY</th>\n",
              "      <th>STATE</th>\n",
              "      <th>POSTALCODE</th>\n",
              "      <th>COUNTRY</th>\n",
              "      <th>TERRITORY</th>\n",
              "      <th>CONTACTLASTNAME</th>\n",
              "      <th>CONTACTFIRSTNAME</th>\n",
              "      <th>DEALSIZE</th>\n",
              "    </tr>\n",
              "  </thead>\n",
              "  <tbody>\n",
              "  </tbody>\n",
              "</table>\n",
              "<p>0 rows × 25 columns</p>\n",
              "</div>\n",
              "      <button class=\"colab-df-convert\" onclick=\"convertToInteractive('df-b866e3e6-3256-4276-b928-bb9eeb00d6a5')\"\n",
              "              title=\"Convert this dataframe to an interactive table.\"\n",
              "              style=\"display:none;\">\n",
              "\n",
              "  <svg xmlns=\"http://www.w3.org/2000/svg\" height=\"24px\"viewBox=\"0 0 24 24\"\n",
              "       width=\"24px\">\n",
              "    <path d=\"M0 0h24v24H0V0z\" fill=\"none\"/>\n",
              "    <path d=\"M18.56 5.44l.94 2.06.94-2.06 2.06-.94-2.06-.94-.94-2.06-.94 2.06-2.06.94zm-11 1L8.5 8.5l.94-2.06 2.06-.94-2.06-.94L8.5 2.5l-.94 2.06-2.06.94zm10 10l.94 2.06.94-2.06 2.06-.94-2.06-.94-.94-2.06-.94 2.06-2.06.94z\"/><path d=\"M17.41 7.96l-1.37-1.37c-.4-.4-.92-.59-1.43-.59-.52 0-1.04.2-1.43.59L10.3 9.45l-7.72 7.72c-.78.78-.78 2.05 0 2.83L4 21.41c.39.39.9.59 1.41.59.51 0 1.02-.2 1.41-.59l7.78-7.78 2.81-2.81c.8-.78.8-2.07 0-2.86zM5.41 20L4 18.59l7.72-7.72 1.47 1.35L5.41 20z\"/>\n",
              "  </svg>\n",
              "      </button>\n",
              "\n",
              "\n",
              "\n",
              "    <div id=\"df-a0f692c6-c8c0-4cf0-99a8-a7812fc3e18d\">\n",
              "      <button class=\"colab-df-quickchart\" onclick=\"quickchart('df-a0f692c6-c8c0-4cf0-99a8-a7812fc3e18d')\"\n",
              "              title=\"Suggest charts.\"\n",
              "              style=\"display:none;\">\n",
              "\n",
              "<svg xmlns=\"http://www.w3.org/2000/svg\" height=\"24px\"viewBox=\"0 0 24 24\"\n",
              "     width=\"24px\">\n",
              "    <g>\n",
              "        <path d=\"M19 3H5c-1.1 0-2 .9-2 2v14c0 1.1.9 2 2 2h14c1.1 0 2-.9 2-2V5c0-1.1-.9-2-2-2zM9 17H7v-7h2v7zm4 0h-2V7h2v10zm4 0h-2v-4h2v4z\"/>\n",
              "    </g>\n",
              "</svg>\n",
              "      </button>\n",
              "    </div>\n",
              "\n",
              "<style>\n",
              "  .colab-df-quickchart {\n",
              "    background-color: #E8F0FE;\n",
              "    border: none;\n",
              "    border-radius: 50%;\n",
              "    cursor: pointer;\n",
              "    display: none;\n",
              "    fill: #1967D2;\n",
              "    height: 32px;\n",
              "    padding: 0 0 0 0;\n",
              "    width: 32px;\n",
              "  }\n",
              "\n",
              "  .colab-df-quickchart:hover {\n",
              "    background-color: #E2EBFA;\n",
              "    box-shadow: 0px 1px 2px rgba(60, 64, 67, 0.3), 0px 1px 3px 1px rgba(60, 64, 67, 0.15);\n",
              "    fill: #174EA6;\n",
              "  }\n",
              "\n",
              "  [theme=dark] .colab-df-quickchart {\n",
              "    background-color: #3B4455;\n",
              "    fill: #D2E3FC;\n",
              "  }\n",
              "\n",
              "  [theme=dark] .colab-df-quickchart:hover {\n",
              "    background-color: #434B5C;\n",
              "    box-shadow: 0px 1px 3px 1px rgba(0, 0, 0, 0.15);\n",
              "    filter: drop-shadow(0px 1px 2px rgba(0, 0, 0, 0.3));\n",
              "    fill: #FFFFFF;\n",
              "  }\n",
              "</style>\n",
              "\n",
              "    <script>\n",
              "      async function quickchart(key) {\n",
              "        const containerElement = document.querySelector('#' + key);\n",
              "        const charts = await google.colab.kernel.invokeFunction(\n",
              "            'suggestCharts', [key], {});\n",
              "      }\n",
              "    </script>\n",
              "\n",
              "      <script>\n",
              "\n",
              "function displayQuickchartButton(domScope) {\n",
              "  let quickchartButtonEl =\n",
              "    domScope.querySelector('#df-a0f692c6-c8c0-4cf0-99a8-a7812fc3e18d button.colab-df-quickchart');\n",
              "  quickchartButtonEl.style.display =\n",
              "    google.colab.kernel.accessAllowed ? 'block' : 'none';\n",
              "}\n",
              "\n",
              "        displayQuickchartButton(document);\n",
              "      </script>\n",
              "      <style>\n",
              "    .colab-df-container {\n",
              "      display:flex;\n",
              "      flex-wrap:wrap;\n",
              "      gap: 12px;\n",
              "    }\n",
              "\n",
              "    .colab-df-convert {\n",
              "      background-color: #E8F0FE;\n",
              "      border: none;\n",
              "      border-radius: 50%;\n",
              "      cursor: pointer;\n",
              "      display: none;\n",
              "      fill: #1967D2;\n",
              "      height: 32px;\n",
              "      padding: 0 0 0 0;\n",
              "      width: 32px;\n",
              "    }\n",
              "\n",
              "    .colab-df-convert:hover {\n",
              "      background-color: #E2EBFA;\n",
              "      box-shadow: 0px 1px 2px rgba(60, 64, 67, 0.3), 0px 1px 3px 1px rgba(60, 64, 67, 0.15);\n",
              "      fill: #174EA6;\n",
              "    }\n",
              "\n",
              "    [theme=dark] .colab-df-convert {\n",
              "      background-color: #3B4455;\n",
              "      fill: #D2E3FC;\n",
              "    }\n",
              "\n",
              "    [theme=dark] .colab-df-convert:hover {\n",
              "      background-color: #434B5C;\n",
              "      box-shadow: 0px 1px 3px 1px rgba(0, 0, 0, 0.15);\n",
              "      filter: drop-shadow(0px 1px 2px rgba(0, 0, 0, 0.3));\n",
              "      fill: #FFFFFF;\n",
              "    }\n",
              "  </style>\n",
              "\n",
              "      <script>\n",
              "        const buttonEl =\n",
              "          document.querySelector('#df-b866e3e6-3256-4276-b928-bb9eeb00d6a5 button.colab-df-convert');\n",
              "        buttonEl.style.display =\n",
              "          google.colab.kernel.accessAllowed ? 'block' : 'none';\n",
              "\n",
              "        async function convertToInteractive(key) {\n",
              "          const element = document.querySelector('#df-b866e3e6-3256-4276-b928-bb9eeb00d6a5');\n",
              "          const dataTable =\n",
              "            await google.colab.kernel.invokeFunction('convertToInteractive',\n",
              "                                                     [key], {});\n",
              "          if (!dataTable) return;\n",
              "\n",
              "          const docLinkHtml = 'Like what you see? Visit the ' +\n",
              "            '<a target=\"_blank\" href=https://colab.research.google.com/notebooks/data_table.ipynb>data table notebook</a>'\n",
              "            + ' to learn more about interactive tables.';\n",
              "          element.innerHTML = '';\n",
              "          dataTable['output_type'] = 'display_data';\n",
              "          await google.colab.output.renderOutput(dataTable, element);\n",
              "          const docLink = document.createElement('div');\n",
              "          docLink.innerHTML = docLinkHtml;\n",
              "          element.appendChild(docLink);\n",
              "        }\n",
              "      </script>\n",
              "    </div>\n",
              "  </div>\n"
            ]
          },
          "metadata": {},
          "execution_count": 108
        }
      ]
    },
    {
      "cell_type": "markdown",
      "source": [
        "De lo anterior surge que:\n",
        "* Existen filas sin valor en algunas columnas de texto relacionadas con la dirección del cliente/contacto, como ADDRESSLINE2, STATE, POSTALCODE y TERRITORY.\n",
        "* No hay registros duplicados, ni valores inválidos."
      ],
      "metadata": {
        "id": "xDR6yRxs9rwu"
      }
    },
    {
      "cell_type": "code",
      "source": [
        "#Territorios a los cuales corresponden los países que aparecen en los pedidos\n",
        "territorios=ventas['TERRITORY'].unique()\n",
        "territorios"
      ],
      "metadata": {
        "id": "lg6zKF3g_B9B",
        "colab": {
          "base_uri": "https://localhost:8080/"
        },
        "outputId": "95b1e0bb-22d0-428c-ad0a-38f5f1542b1d"
      },
      "execution_count": 109,
      "outputs": [
        {
          "output_type": "execute_result",
          "data": {
            "text/plain": [
              "array([nan, 'EMEA', 'APAC', 'Japan'], dtype=object)"
            ]
          },
          "metadata": {},
          "execution_count": 109
        }
      ]
    },
    {
      "cell_type": "code",
      "source": [
        "#Se verifican los retornos 'nan' a qué países corresponden\n",
        "paises_sin_territorio = ventas.loc[ventas['TERRITORY'].isnull()]['COUNTRY'].value_counts()\n",
        "print(paises_sin_territorio)"
      ],
      "metadata": {
        "id": "tqAZuhHo_XVt",
        "colab": {
          "base_uri": "https://localhost:8080/"
        },
        "outputId": "5a15f904-a81f-47dd-c328-114e1b040a34"
      },
      "execution_count": 110,
      "outputs": [
        {
          "output_type": "stream",
          "name": "stdout",
          "text": [
            "USA       1004\n",
            "Canada      70\n",
            "Name: COUNTRY, dtype: int64\n"
          ]
        }
      ]
    },
    {
      "cell_type": "markdown",
      "source": [
        "De lo anterior surge que los pedidos que no tienen dato de Territorio corresponden a clientes de USA y Canadá. Significado de los demás nombres de territorio:\n",
        "- EMEA= Europa, Medio Oriente y África\n",
        "- APAC = Asia Pacífico"
      ],
      "metadata": {
        "id": "2nnDHXnRpgLE"
      }
    },
    {
      "cell_type": "code",
      "source": [
        "#Los territorios nulos se asignan entonces al valor 'NOAM' (Norteamérica)\n",
        "ventas['TERRITORY'] = ventas['TERRITORY'].fillna('NOAM')\n",
        "ventas['TERRITORY'].unique()"
      ],
      "metadata": {
        "id": "oRxON9yszhr4",
        "colab": {
          "base_uri": "https://localhost:8080/"
        },
        "outputId": "b8b312a0-9d8e-45aa-e80b-9c1d63fd8b30"
      },
      "execution_count": 111,
      "outputs": [
        {
          "output_type": "execute_result",
          "data": {
            "text/plain": [
              "array(['NOAM', 'EMEA', 'APAC', 'Japan'], dtype=object)"
            ]
          },
          "metadata": {},
          "execution_count": 111
        }
      ]
    },
    {
      "cell_type": "markdown",
      "source": [
        "3.2.Eliminación de filas y columnas"
      ],
      "metadata": {
        "id": "3dy8CTLR4pYa"
      }
    },
    {
      "cell_type": "code",
      "source": [
        "#Columnas: se eliminan las columnas correspondientes a fecha del pedido (se usará mes y año), columnas que representen identificadores\n",
        "#y datos de contacto/dirección de clientes\n",
        "ventas.drop(['ORDERNUMBER','ORDERLINENUMBER','ORDERDATE','QTR_ID','MSRP','PHONE','ADDRESSLINE1','ADDRESSLINE2','STATE','POSTALCODE','CONTACTLASTNAME','CONTACTFIRSTNAME'], axis=1,inplace=True)\n",
        "ventas.info()"
      ],
      "metadata": {
        "id": "n_VGBLZGJ_qF",
        "colab": {
          "base_uri": "https://localhost:8080/"
        },
        "outputId": "d7f21142-028f-4f29-be7f-c6973466a6fe"
      },
      "execution_count": 112,
      "outputs": [
        {
          "output_type": "stream",
          "name": "stdout",
          "text": [
            "<class 'pandas.core.frame.DataFrame'>\n",
            "RangeIndex: 2823 entries, 0 to 2822\n",
            "Data columns (total 13 columns):\n",
            " #   Column           Non-Null Count  Dtype  \n",
            "---  ------           --------------  -----  \n",
            " 0   QUANTITYORDERED  2823 non-null   int64  \n",
            " 1   PRICEEACH        2823 non-null   float64\n",
            " 2   SALES            2823 non-null   float64\n",
            " 3   STATUS           2823 non-null   object \n",
            " 4   MONTH_ID         2823 non-null   int64  \n",
            " 5   YEAR_ID          2823 non-null   int64  \n",
            " 6   PRODUCTLINE      2823 non-null   object \n",
            " 7   PRODUCTCODE      2823 non-null   object \n",
            " 8   CUSTOMERNAME     2823 non-null   object \n",
            " 9   CITY             2823 non-null   object \n",
            " 10  COUNTRY          2823 non-null   object \n",
            " 11  TERRITORY        2823 non-null   object \n",
            " 12  DEALSIZE         2823 non-null   object \n",
            "dtypes: float64(2), int64(3), object(8)\n",
            "memory usage: 286.8+ KB\n"
          ]
        }
      ]
    },
    {
      "cell_type": "code",
      "source": [
        "#Filas: se eliminan filas correspondientes a YEAR_ID=2005, ya que solo hay datos hasta mayo 2005 (se analizarán solo ventas anuales completas)\n",
        "#1. Cuenta de filas por año\n",
        "ventas['YEAR_ID'].value_counts()  #2005 -> 478 filas\n"
      ],
      "metadata": {
        "id": "iP19GWOtvBQy",
        "colab": {
          "base_uri": "https://localhost:8080/"
        },
        "outputId": "aae45885-b5aa-4396-df20-8c45eebb61ce"
      },
      "execution_count": 113,
      "outputs": [
        {
          "output_type": "execute_result",
          "data": {
            "text/plain": [
              "2004    1345\n",
              "2003    1000\n",
              "2005     478\n",
              "Name: YEAR_ID, dtype: int64"
            ]
          },
          "metadata": {},
          "execution_count": 113
        }
      ]
    },
    {
      "cell_type": "code",
      "source": [
        "#2. Eliminación de filas\n",
        "ventas_final=ventas.drop(ventas[(ventas['YEAR_ID'] ==2005)].index)\n",
        "ventas_final"
      ],
      "metadata": {
        "id": "Iw82uoJP2_X2",
        "colab": {
          "base_uri": "https://localhost:8080/",
          "height": 424
        },
        "outputId": "90b67e2f-870d-43a1-dea3-f861f5d4dc57"
      },
      "execution_count": 114,
      "outputs": [
        {
          "output_type": "execute_result",
          "data": {
            "text/plain": [
              "      QUANTITYORDERED  PRICEEACH    SALES    STATUS  MONTH_ID  YEAR_ID  \\\n",
              "0                  30      95.70  2871.00   Shipped         2     2003   \n",
              "1                  34      81.35  2765.90   Shipped         5     2003   \n",
              "2                  41      94.74  3884.34   Shipped         7     2003   \n",
              "3                  45      83.26  3746.70   Shipped         8     2003   \n",
              "4                  49     100.00  5205.27   Shipped        10     2003   \n",
              "...               ...        ...      ...       ...       ...      ...   \n",
              "2814               35      59.51  2082.85   Shipped        10     2004   \n",
              "2815               40      55.69  2227.60   Shipped        10     2004   \n",
              "2816               37      86.74  3209.38  Resolved        11     2004   \n",
              "2817               42      97.16  4080.72   Shipped        11     2004   \n",
              "2818               20     100.00  2244.40   Shipped        12     2004   \n",
              "\n",
              "      PRODUCTLINE PRODUCTCODE              CUSTOMERNAME           CITY  \\\n",
              "0     Motorcycles    S10_1678         Land of Toys Inc.            NYC   \n",
              "1     Motorcycles    S10_1678        Reims Collectables          Reims   \n",
              "2     Motorcycles    S10_1678           Lyon Souveniers          Paris   \n",
              "3     Motorcycles    S10_1678         Toys4GrownUps.com       Pasadena   \n",
              "4     Motorcycles    S10_1678  Corporate Gift Ideas Co.  San Francisco   \n",
              "...           ...         ...                       ...            ...   \n",
              "2814        Ships    S72_3212            AV Stores, Co.     Manchester   \n",
              "2815        Ships    S72_3212         La Rochelle Gifts         Nantes   \n",
              "2816        Ships    S72_3212  Danish Wholesale Imports      Kobenhavn   \n",
              "2817        Ships    S72_3212      Classic Legends Inc.            NYC   \n",
              "2818        Ships    S72_3212     Euro Shopping Channel         Madrid   \n",
              "\n",
              "      COUNTRY TERRITORY DEALSIZE  \n",
              "0         USA      NOAM    Small  \n",
              "1      France      EMEA    Small  \n",
              "2      France      EMEA   Medium  \n",
              "3         USA      NOAM   Medium  \n",
              "4         USA      NOAM   Medium  \n",
              "...       ...       ...      ...  \n",
              "2814       UK      EMEA    Small  \n",
              "2815   France      EMEA    Small  \n",
              "2816  Denmark      EMEA   Medium  \n",
              "2817      USA      NOAM   Medium  \n",
              "2818    Spain      EMEA    Small  \n",
              "\n",
              "[2345 rows x 13 columns]"
            ],
            "text/html": [
              "\n",
              "\n",
              "  <div id=\"df-7cd3e656-63dd-498c-a25a-2c2200accc59\">\n",
              "    <div class=\"colab-df-container\">\n",
              "      <div>\n",
              "<style scoped>\n",
              "    .dataframe tbody tr th:only-of-type {\n",
              "        vertical-align: middle;\n",
              "    }\n",
              "\n",
              "    .dataframe tbody tr th {\n",
              "        vertical-align: top;\n",
              "    }\n",
              "\n",
              "    .dataframe thead th {\n",
              "        text-align: right;\n",
              "    }\n",
              "</style>\n",
              "<table border=\"1\" class=\"dataframe\">\n",
              "  <thead>\n",
              "    <tr style=\"text-align: right;\">\n",
              "      <th></th>\n",
              "      <th>QUANTITYORDERED</th>\n",
              "      <th>PRICEEACH</th>\n",
              "      <th>SALES</th>\n",
              "      <th>STATUS</th>\n",
              "      <th>MONTH_ID</th>\n",
              "      <th>YEAR_ID</th>\n",
              "      <th>PRODUCTLINE</th>\n",
              "      <th>PRODUCTCODE</th>\n",
              "      <th>CUSTOMERNAME</th>\n",
              "      <th>CITY</th>\n",
              "      <th>COUNTRY</th>\n",
              "      <th>TERRITORY</th>\n",
              "      <th>DEALSIZE</th>\n",
              "    </tr>\n",
              "  </thead>\n",
              "  <tbody>\n",
              "    <tr>\n",
              "      <th>0</th>\n",
              "      <td>30</td>\n",
              "      <td>95.70</td>\n",
              "      <td>2871.00</td>\n",
              "      <td>Shipped</td>\n",
              "      <td>2</td>\n",
              "      <td>2003</td>\n",
              "      <td>Motorcycles</td>\n",
              "      <td>S10_1678</td>\n",
              "      <td>Land of Toys Inc.</td>\n",
              "      <td>NYC</td>\n",
              "      <td>USA</td>\n",
              "      <td>NOAM</td>\n",
              "      <td>Small</td>\n",
              "    </tr>\n",
              "    <tr>\n",
              "      <th>1</th>\n",
              "      <td>34</td>\n",
              "      <td>81.35</td>\n",
              "      <td>2765.90</td>\n",
              "      <td>Shipped</td>\n",
              "      <td>5</td>\n",
              "      <td>2003</td>\n",
              "      <td>Motorcycles</td>\n",
              "      <td>S10_1678</td>\n",
              "      <td>Reims Collectables</td>\n",
              "      <td>Reims</td>\n",
              "      <td>France</td>\n",
              "      <td>EMEA</td>\n",
              "      <td>Small</td>\n",
              "    </tr>\n",
              "    <tr>\n",
              "      <th>2</th>\n",
              "      <td>41</td>\n",
              "      <td>94.74</td>\n",
              "      <td>3884.34</td>\n",
              "      <td>Shipped</td>\n",
              "      <td>7</td>\n",
              "      <td>2003</td>\n",
              "      <td>Motorcycles</td>\n",
              "      <td>S10_1678</td>\n",
              "      <td>Lyon Souveniers</td>\n",
              "      <td>Paris</td>\n",
              "      <td>France</td>\n",
              "      <td>EMEA</td>\n",
              "      <td>Medium</td>\n",
              "    </tr>\n",
              "    <tr>\n",
              "      <th>3</th>\n",
              "      <td>45</td>\n",
              "      <td>83.26</td>\n",
              "      <td>3746.70</td>\n",
              "      <td>Shipped</td>\n",
              "      <td>8</td>\n",
              "      <td>2003</td>\n",
              "      <td>Motorcycles</td>\n",
              "      <td>S10_1678</td>\n",
              "      <td>Toys4GrownUps.com</td>\n",
              "      <td>Pasadena</td>\n",
              "      <td>USA</td>\n",
              "      <td>NOAM</td>\n",
              "      <td>Medium</td>\n",
              "    </tr>\n",
              "    <tr>\n",
              "      <th>4</th>\n",
              "      <td>49</td>\n",
              "      <td>100.00</td>\n",
              "      <td>5205.27</td>\n",
              "      <td>Shipped</td>\n",
              "      <td>10</td>\n",
              "      <td>2003</td>\n",
              "      <td>Motorcycles</td>\n",
              "      <td>S10_1678</td>\n",
              "      <td>Corporate Gift Ideas Co.</td>\n",
              "      <td>San Francisco</td>\n",
              "      <td>USA</td>\n",
              "      <td>NOAM</td>\n",
              "      <td>Medium</td>\n",
              "    </tr>\n",
              "    <tr>\n",
              "      <th>...</th>\n",
              "      <td>...</td>\n",
              "      <td>...</td>\n",
              "      <td>...</td>\n",
              "      <td>...</td>\n",
              "      <td>...</td>\n",
              "      <td>...</td>\n",
              "      <td>...</td>\n",
              "      <td>...</td>\n",
              "      <td>...</td>\n",
              "      <td>...</td>\n",
              "      <td>...</td>\n",
              "      <td>...</td>\n",
              "      <td>...</td>\n",
              "    </tr>\n",
              "    <tr>\n",
              "      <th>2814</th>\n",
              "      <td>35</td>\n",
              "      <td>59.51</td>\n",
              "      <td>2082.85</td>\n",
              "      <td>Shipped</td>\n",
              "      <td>10</td>\n",
              "      <td>2004</td>\n",
              "      <td>Ships</td>\n",
              "      <td>S72_3212</td>\n",
              "      <td>AV Stores, Co.</td>\n",
              "      <td>Manchester</td>\n",
              "      <td>UK</td>\n",
              "      <td>EMEA</td>\n",
              "      <td>Small</td>\n",
              "    </tr>\n",
              "    <tr>\n",
              "      <th>2815</th>\n",
              "      <td>40</td>\n",
              "      <td>55.69</td>\n",
              "      <td>2227.60</td>\n",
              "      <td>Shipped</td>\n",
              "      <td>10</td>\n",
              "      <td>2004</td>\n",
              "      <td>Ships</td>\n",
              "      <td>S72_3212</td>\n",
              "      <td>La Rochelle Gifts</td>\n",
              "      <td>Nantes</td>\n",
              "      <td>France</td>\n",
              "      <td>EMEA</td>\n",
              "      <td>Small</td>\n",
              "    </tr>\n",
              "    <tr>\n",
              "      <th>2816</th>\n",
              "      <td>37</td>\n",
              "      <td>86.74</td>\n",
              "      <td>3209.38</td>\n",
              "      <td>Resolved</td>\n",
              "      <td>11</td>\n",
              "      <td>2004</td>\n",
              "      <td>Ships</td>\n",
              "      <td>S72_3212</td>\n",
              "      <td>Danish Wholesale Imports</td>\n",
              "      <td>Kobenhavn</td>\n",
              "      <td>Denmark</td>\n",
              "      <td>EMEA</td>\n",
              "      <td>Medium</td>\n",
              "    </tr>\n",
              "    <tr>\n",
              "      <th>2817</th>\n",
              "      <td>42</td>\n",
              "      <td>97.16</td>\n",
              "      <td>4080.72</td>\n",
              "      <td>Shipped</td>\n",
              "      <td>11</td>\n",
              "      <td>2004</td>\n",
              "      <td>Ships</td>\n",
              "      <td>S72_3212</td>\n",
              "      <td>Classic Legends Inc.</td>\n",
              "      <td>NYC</td>\n",
              "      <td>USA</td>\n",
              "      <td>NOAM</td>\n",
              "      <td>Medium</td>\n",
              "    </tr>\n",
              "    <tr>\n",
              "      <th>2818</th>\n",
              "      <td>20</td>\n",
              "      <td>100.00</td>\n",
              "      <td>2244.40</td>\n",
              "      <td>Shipped</td>\n",
              "      <td>12</td>\n",
              "      <td>2004</td>\n",
              "      <td>Ships</td>\n",
              "      <td>S72_3212</td>\n",
              "      <td>Euro Shopping Channel</td>\n",
              "      <td>Madrid</td>\n",
              "      <td>Spain</td>\n",
              "      <td>EMEA</td>\n",
              "      <td>Small</td>\n",
              "    </tr>\n",
              "  </tbody>\n",
              "</table>\n",
              "<p>2345 rows × 13 columns</p>\n",
              "</div>\n",
              "      <button class=\"colab-df-convert\" onclick=\"convertToInteractive('df-7cd3e656-63dd-498c-a25a-2c2200accc59')\"\n",
              "              title=\"Convert this dataframe to an interactive table.\"\n",
              "              style=\"display:none;\">\n",
              "\n",
              "  <svg xmlns=\"http://www.w3.org/2000/svg\" height=\"24px\"viewBox=\"0 0 24 24\"\n",
              "       width=\"24px\">\n",
              "    <path d=\"M0 0h24v24H0V0z\" fill=\"none\"/>\n",
              "    <path d=\"M18.56 5.44l.94 2.06.94-2.06 2.06-.94-2.06-.94-.94-2.06-.94 2.06-2.06.94zm-11 1L8.5 8.5l.94-2.06 2.06-.94-2.06-.94L8.5 2.5l-.94 2.06-2.06.94zm10 10l.94 2.06.94-2.06 2.06-.94-2.06-.94-.94-2.06-.94 2.06-2.06.94z\"/><path d=\"M17.41 7.96l-1.37-1.37c-.4-.4-.92-.59-1.43-.59-.52 0-1.04.2-1.43.59L10.3 9.45l-7.72 7.72c-.78.78-.78 2.05 0 2.83L4 21.41c.39.39.9.59 1.41.59.51 0 1.02-.2 1.41-.59l7.78-7.78 2.81-2.81c.8-.78.8-2.07 0-2.86zM5.41 20L4 18.59l7.72-7.72 1.47 1.35L5.41 20z\"/>\n",
              "  </svg>\n",
              "      </button>\n",
              "\n",
              "\n",
              "\n",
              "    <div id=\"df-57fb48b1-ce73-46f7-9747-2357fd2c5d95\">\n",
              "      <button class=\"colab-df-quickchart\" onclick=\"quickchart('df-57fb48b1-ce73-46f7-9747-2357fd2c5d95')\"\n",
              "              title=\"Suggest charts.\"\n",
              "              style=\"display:none;\">\n",
              "\n",
              "<svg xmlns=\"http://www.w3.org/2000/svg\" height=\"24px\"viewBox=\"0 0 24 24\"\n",
              "     width=\"24px\">\n",
              "    <g>\n",
              "        <path d=\"M19 3H5c-1.1 0-2 .9-2 2v14c0 1.1.9 2 2 2h14c1.1 0 2-.9 2-2V5c0-1.1-.9-2-2-2zM9 17H7v-7h2v7zm4 0h-2V7h2v10zm4 0h-2v-4h2v4z\"/>\n",
              "    </g>\n",
              "</svg>\n",
              "      </button>\n",
              "    </div>\n",
              "\n",
              "<style>\n",
              "  .colab-df-quickchart {\n",
              "    background-color: #E8F0FE;\n",
              "    border: none;\n",
              "    border-radius: 50%;\n",
              "    cursor: pointer;\n",
              "    display: none;\n",
              "    fill: #1967D2;\n",
              "    height: 32px;\n",
              "    padding: 0 0 0 0;\n",
              "    width: 32px;\n",
              "  }\n",
              "\n",
              "  .colab-df-quickchart:hover {\n",
              "    background-color: #E2EBFA;\n",
              "    box-shadow: 0px 1px 2px rgba(60, 64, 67, 0.3), 0px 1px 3px 1px rgba(60, 64, 67, 0.15);\n",
              "    fill: #174EA6;\n",
              "  }\n",
              "\n",
              "  [theme=dark] .colab-df-quickchart {\n",
              "    background-color: #3B4455;\n",
              "    fill: #D2E3FC;\n",
              "  }\n",
              "\n",
              "  [theme=dark] .colab-df-quickchart:hover {\n",
              "    background-color: #434B5C;\n",
              "    box-shadow: 0px 1px 3px 1px rgba(0, 0, 0, 0.15);\n",
              "    filter: drop-shadow(0px 1px 2px rgba(0, 0, 0, 0.3));\n",
              "    fill: #FFFFFF;\n",
              "  }\n",
              "</style>\n",
              "\n",
              "    <script>\n",
              "      async function quickchart(key) {\n",
              "        const containerElement = document.querySelector('#' + key);\n",
              "        const charts = await google.colab.kernel.invokeFunction(\n",
              "            'suggestCharts', [key], {});\n",
              "      }\n",
              "    </script>\n",
              "\n",
              "      <script>\n",
              "\n",
              "function displayQuickchartButton(domScope) {\n",
              "  let quickchartButtonEl =\n",
              "    domScope.querySelector('#df-57fb48b1-ce73-46f7-9747-2357fd2c5d95 button.colab-df-quickchart');\n",
              "  quickchartButtonEl.style.display =\n",
              "    google.colab.kernel.accessAllowed ? 'block' : 'none';\n",
              "}\n",
              "\n",
              "        displayQuickchartButton(document);\n",
              "      </script>\n",
              "      <style>\n",
              "    .colab-df-container {\n",
              "      display:flex;\n",
              "      flex-wrap:wrap;\n",
              "      gap: 12px;\n",
              "    }\n",
              "\n",
              "    .colab-df-convert {\n",
              "      background-color: #E8F0FE;\n",
              "      border: none;\n",
              "      border-radius: 50%;\n",
              "      cursor: pointer;\n",
              "      display: none;\n",
              "      fill: #1967D2;\n",
              "      height: 32px;\n",
              "      padding: 0 0 0 0;\n",
              "      width: 32px;\n",
              "    }\n",
              "\n",
              "    .colab-df-convert:hover {\n",
              "      background-color: #E2EBFA;\n",
              "      box-shadow: 0px 1px 2px rgba(60, 64, 67, 0.3), 0px 1px 3px 1px rgba(60, 64, 67, 0.15);\n",
              "      fill: #174EA6;\n",
              "    }\n",
              "\n",
              "    [theme=dark] .colab-df-convert {\n",
              "      background-color: #3B4455;\n",
              "      fill: #D2E3FC;\n",
              "    }\n",
              "\n",
              "    [theme=dark] .colab-df-convert:hover {\n",
              "      background-color: #434B5C;\n",
              "      box-shadow: 0px 1px 3px 1px rgba(0, 0, 0, 0.15);\n",
              "      filter: drop-shadow(0px 1px 2px rgba(0, 0, 0, 0.3));\n",
              "      fill: #FFFFFF;\n",
              "    }\n",
              "  </style>\n",
              "\n",
              "      <script>\n",
              "        const buttonEl =\n",
              "          document.querySelector('#df-7cd3e656-63dd-498c-a25a-2c2200accc59 button.colab-df-convert');\n",
              "        buttonEl.style.display =\n",
              "          google.colab.kernel.accessAllowed ? 'block' : 'none';\n",
              "\n",
              "        async function convertToInteractive(key) {\n",
              "          const element = document.querySelector('#df-7cd3e656-63dd-498c-a25a-2c2200accc59');\n",
              "          const dataTable =\n",
              "            await google.colab.kernel.invokeFunction('convertToInteractive',\n",
              "                                                     [key], {});\n",
              "          if (!dataTable) return;\n",
              "\n",
              "          const docLinkHtml = 'Like what you see? Visit the ' +\n",
              "            '<a target=\"_blank\" href=https://colab.research.google.com/notebooks/data_table.ipynb>data table notebook</a>'\n",
              "            + ' to learn more about interactive tables.';\n",
              "          element.innerHTML = '';\n",
              "          dataTable['output_type'] = 'display_data';\n",
              "          await google.colab.output.renderOutput(dataTable, element);\n",
              "          const docLink = document.createElement('div');\n",
              "          docLink.innerHTML = docLinkHtml;\n",
              "          element.appendChild(docLink);\n",
              "        }\n",
              "      </script>\n",
              "    </div>\n",
              "  </div>\n"
            ]
          },
          "metadata": {},
          "execution_count": 114
        }
      ]
    },
    {
      "cell_type": "code",
      "source": [
        "#3. Recuento: quedaron 2345 filas en total, correspondientes a los años 2003 y 2004\n",
        "ventas_final['YEAR_ID'].value_counts()"
      ],
      "metadata": {
        "id": "E-V2kcon2BRs",
        "colab": {
          "base_uri": "https://localhost:8080/"
        },
        "outputId": "9fe93286-52b4-433c-80f6-58855efe3b8c"
      },
      "execution_count": 115,
      "outputs": [
        {
          "output_type": "execute_result",
          "data": {
            "text/plain": [
              "2004    1345\n",
              "2003    1000\n",
              "Name: YEAR_ID, dtype: int64"
            ]
          },
          "metadata": {},
          "execution_count": 115
        }
      ]
    },
    {
      "cell_type": "markdown",
      "source": [
        "3.3.Conversión de tipos de datos"
      ],
      "metadata": {
        "id": "uXN_2mpzULEy"
      }
    },
    {
      "cell_type": "code",
      "source": [
        "# Convertir tipos de datos object a string\n",
        "ventas_final['STATUS'] = ventas_final['STATUS'].astype(\"string\")\n",
        "ventas_final['YEAR_ID'] = ventas_final['YEAR_ID'].astype(\"string\")\n",
        "ventas_final['MONTH_ID'] = ventas_final['MONTH_ID'].astype(\"string\")\n",
        "ventas_final['PRODUCTLINE'] = ventas_final['PRODUCTLINE'].astype(\"string\")\n",
        "ventas_final['PRODUCTCODE'] = ventas_final['PRODUCTCODE'].astype(\"string\")\n",
        "ventas_final['CUSTOMERNAME'] = ventas_final['CUSTOMERNAME'].astype(\"string\")\n",
        "ventas_final['CITY'] = ventas_final['CITY'].astype(\"string\")\n",
        "ventas_final['COUNTRY'] = ventas_final['COUNTRY'].astype(\"string\")\n",
        "ventas_final['TERRITORY'] = ventas_final['TERRITORY'].astype(\"string\")\n",
        "ventas_final['DEALSIZE'] = ventas_final['DEALSIZE'].astype(\"string\")\n",
        "ventas_final.info()"
      ],
      "metadata": {
        "id": "uxaeQR-e_eyt",
        "colab": {
          "base_uri": "https://localhost:8080/"
        },
        "outputId": "0ee99612-bd26-4a8e-dd46-1ae071d78250"
      },
      "execution_count": 116,
      "outputs": [
        {
          "output_type": "stream",
          "name": "stdout",
          "text": [
            "<class 'pandas.core.frame.DataFrame'>\n",
            "Int64Index: 2345 entries, 0 to 2818\n",
            "Data columns (total 13 columns):\n",
            " #   Column           Non-Null Count  Dtype  \n",
            "---  ------           --------------  -----  \n",
            " 0   QUANTITYORDERED  2345 non-null   int64  \n",
            " 1   PRICEEACH        2345 non-null   float64\n",
            " 2   SALES            2345 non-null   float64\n",
            " 3   STATUS           2345 non-null   string \n",
            " 4   MONTH_ID         2345 non-null   string \n",
            " 5   YEAR_ID          2345 non-null   string \n",
            " 6   PRODUCTLINE      2345 non-null   string \n",
            " 7   PRODUCTCODE      2345 non-null   string \n",
            " 8   CUSTOMERNAME     2345 non-null   string \n",
            " 9   CITY             2345 non-null   string \n",
            " 10  COUNTRY          2345 non-null   string \n",
            " 11  TERRITORY        2345 non-null   string \n",
            " 12  DEALSIZE         2345 non-null   string \n",
            "dtypes: float64(2), int64(1), string(10)\n",
            "memory usage: 256.5 KB\n"
          ]
        }
      ]
    },
    {
      "cell_type": "markdown",
      "source": [
        "### 4. Exploración de datos"
      ],
      "metadata": {
        "id": "7Sv-BXnQXvE7"
      }
    },
    {
      "cell_type": "code",
      "source": [
        "#Categorías de productos\n",
        "categorias=ventas_final['PRODUCTLINE'].value_counts()\n",
        "categorias"
      ],
      "metadata": {
        "id": "gRFgO_c7Qg0w",
        "colab": {
          "base_uri": "https://localhost:8080/"
        },
        "outputId": "7b2fbb57-cb3c-4628-afa3-4ef60634fac4"
      },
      "execution_count": 117,
      "outputs": [
        {
          "output_type": "execute_result",
          "data": {
            "text/plain": [
              "Classic Cars        808\n",
              "Vintage Cars        505\n",
              "Motorcycles         273\n",
              "Trucks and Buses    252\n",
              "Planes              246\n",
              "Ships               196\n",
              "Trains               65\n",
              "Name: PRODUCTLINE, dtype: Int64"
            ]
          },
          "metadata": {},
          "execution_count": 117
        }
      ]
    },
    {
      "cell_type": "code",
      "source": [
        "#Estado de las pedidos\n",
        "estados= ventas_final['STATUS'].value_counts()\n",
        "estados"
      ],
      "metadata": {
        "id": "TkhtcfnGLYdp",
        "colab": {
          "base_uri": "https://localhost:8080/"
        },
        "outputId": "3ad97aa1-8f46-4d32-b4b5-d8b91c021b6e"
      },
      "execution_count": 118,
      "outputs": [
        {
          "output_type": "execute_result",
          "data": {
            "text/plain": [
              "Shipped      2263\n",
              "Cancelled      60\n",
              "Resolved       16\n",
              "On Hold         6\n",
              "Name: STATUS, dtype: Int64"
            ]
          },
          "metadata": {},
          "execution_count": 118
        }
      ]
    },
    {
      "cell_type": "code",
      "source": [
        "#Volumen de las operaciones/pedidos\n",
        "volumen= ventas_final['DEALSIZE'].value_counts()\n",
        "volumen"
      ],
      "metadata": {
        "id": "7RRI9qpPLqUy",
        "colab": {
          "base_uri": "https://localhost:8080/"
        },
        "outputId": "f20f8d98-daac-4f72-f466-7e9a32307118"
      },
      "execution_count": 119,
      "outputs": [
        {
          "output_type": "execute_result",
          "data": {
            "text/plain": [
              "Medium    1150\n",
              "Small     1078\n",
              "Large      117\n",
              "Name: DEALSIZE, dtype: Int64"
            ]
          },
          "metadata": {},
          "execution_count": 119
        }
      ]
    },
    {
      "cell_type": "code",
      "source": [
        "#Valores mínimos y máximos de los dealsize por categoría\n",
        "df2 = ventas_final.groupby(['DEALSIZE','PRODUCTLINE'])['QUANTITYORDERED'].agg(menor=\"min\", mayor=\"max\")\n",
        "df2"
      ],
      "metadata": {
        "id": "6dTmyeJ8Qyim",
        "colab": {
          "base_uri": "https://localhost:8080/",
          "height": 677
        },
        "outputId": "e3415268-0494-4876-c96c-16838dabe180"
      },
      "execution_count": 120,
      "outputs": [
        {
          "output_type": "execute_result",
          "data": {
            "text/plain": [
              "                           menor  mayor\n",
              "DEALSIZE PRODUCTLINE                   \n",
              "Large    Classic Cars         29     50\n",
              "         Motorcycles          31     55\n",
              "         Planes               39     50\n",
              "         Trucks and Buses     38     50\n",
              "         Vintage Cars         29     55\n",
              "Medium   Classic Cars         20     55\n",
              "         Motorcycles          20     55\n",
              "         Planes               24     55\n",
              "         Ships                20     55\n",
              "         Trains               22     50\n",
              "         Trucks and Buses     21     50\n",
              "         Vintage Cars         20     50\n",
              "Small    Classic Cars         20     50\n",
              "         Motorcycles          20     48\n",
              "         Planes               20     50\n",
              "         Ships                20     50\n",
              "         Trains               20     48\n",
              "         Trucks and Buses     20     50\n",
              "         Vintage Cars         20     50"
            ],
            "text/html": [
              "\n",
              "\n",
              "  <div id=\"df-cf1eecae-df61-4b60-b094-cee7d0393206\">\n",
              "    <div class=\"colab-df-container\">\n",
              "      <div>\n",
              "<style scoped>\n",
              "    .dataframe tbody tr th:only-of-type {\n",
              "        vertical-align: middle;\n",
              "    }\n",
              "\n",
              "    .dataframe tbody tr th {\n",
              "        vertical-align: top;\n",
              "    }\n",
              "\n",
              "    .dataframe thead th {\n",
              "        text-align: right;\n",
              "    }\n",
              "</style>\n",
              "<table border=\"1\" class=\"dataframe\">\n",
              "  <thead>\n",
              "    <tr style=\"text-align: right;\">\n",
              "      <th></th>\n",
              "      <th></th>\n",
              "      <th>menor</th>\n",
              "      <th>mayor</th>\n",
              "    </tr>\n",
              "    <tr>\n",
              "      <th>DEALSIZE</th>\n",
              "      <th>PRODUCTLINE</th>\n",
              "      <th></th>\n",
              "      <th></th>\n",
              "    </tr>\n",
              "  </thead>\n",
              "  <tbody>\n",
              "    <tr>\n",
              "      <th rowspan=\"5\" valign=\"top\">Large</th>\n",
              "      <th>Classic Cars</th>\n",
              "      <td>29</td>\n",
              "      <td>50</td>\n",
              "    </tr>\n",
              "    <tr>\n",
              "      <th>Motorcycles</th>\n",
              "      <td>31</td>\n",
              "      <td>55</td>\n",
              "    </tr>\n",
              "    <tr>\n",
              "      <th>Planes</th>\n",
              "      <td>39</td>\n",
              "      <td>50</td>\n",
              "    </tr>\n",
              "    <tr>\n",
              "      <th>Trucks and Buses</th>\n",
              "      <td>38</td>\n",
              "      <td>50</td>\n",
              "    </tr>\n",
              "    <tr>\n",
              "      <th>Vintage Cars</th>\n",
              "      <td>29</td>\n",
              "      <td>55</td>\n",
              "    </tr>\n",
              "    <tr>\n",
              "      <th rowspan=\"7\" valign=\"top\">Medium</th>\n",
              "      <th>Classic Cars</th>\n",
              "      <td>20</td>\n",
              "      <td>55</td>\n",
              "    </tr>\n",
              "    <tr>\n",
              "      <th>Motorcycles</th>\n",
              "      <td>20</td>\n",
              "      <td>55</td>\n",
              "    </tr>\n",
              "    <tr>\n",
              "      <th>Planes</th>\n",
              "      <td>24</td>\n",
              "      <td>55</td>\n",
              "    </tr>\n",
              "    <tr>\n",
              "      <th>Ships</th>\n",
              "      <td>20</td>\n",
              "      <td>55</td>\n",
              "    </tr>\n",
              "    <tr>\n",
              "      <th>Trains</th>\n",
              "      <td>22</td>\n",
              "      <td>50</td>\n",
              "    </tr>\n",
              "    <tr>\n",
              "      <th>Trucks and Buses</th>\n",
              "      <td>21</td>\n",
              "      <td>50</td>\n",
              "    </tr>\n",
              "    <tr>\n",
              "      <th>Vintage Cars</th>\n",
              "      <td>20</td>\n",
              "      <td>50</td>\n",
              "    </tr>\n",
              "    <tr>\n",
              "      <th rowspan=\"7\" valign=\"top\">Small</th>\n",
              "      <th>Classic Cars</th>\n",
              "      <td>20</td>\n",
              "      <td>50</td>\n",
              "    </tr>\n",
              "    <tr>\n",
              "      <th>Motorcycles</th>\n",
              "      <td>20</td>\n",
              "      <td>48</td>\n",
              "    </tr>\n",
              "    <tr>\n",
              "      <th>Planes</th>\n",
              "      <td>20</td>\n",
              "      <td>50</td>\n",
              "    </tr>\n",
              "    <tr>\n",
              "      <th>Ships</th>\n",
              "      <td>20</td>\n",
              "      <td>50</td>\n",
              "    </tr>\n",
              "    <tr>\n",
              "      <th>Trains</th>\n",
              "      <td>20</td>\n",
              "      <td>48</td>\n",
              "    </tr>\n",
              "    <tr>\n",
              "      <th>Trucks and Buses</th>\n",
              "      <td>20</td>\n",
              "      <td>50</td>\n",
              "    </tr>\n",
              "    <tr>\n",
              "      <th>Vintage Cars</th>\n",
              "      <td>20</td>\n",
              "      <td>50</td>\n",
              "    </tr>\n",
              "  </tbody>\n",
              "</table>\n",
              "</div>\n",
              "      <button class=\"colab-df-convert\" onclick=\"convertToInteractive('df-cf1eecae-df61-4b60-b094-cee7d0393206')\"\n",
              "              title=\"Convert this dataframe to an interactive table.\"\n",
              "              style=\"display:none;\">\n",
              "\n",
              "  <svg xmlns=\"http://www.w3.org/2000/svg\" height=\"24px\"viewBox=\"0 0 24 24\"\n",
              "       width=\"24px\">\n",
              "    <path d=\"M0 0h24v24H0V0z\" fill=\"none\"/>\n",
              "    <path d=\"M18.56 5.44l.94 2.06.94-2.06 2.06-.94-2.06-.94-.94-2.06-.94 2.06-2.06.94zm-11 1L8.5 8.5l.94-2.06 2.06-.94-2.06-.94L8.5 2.5l-.94 2.06-2.06.94zm10 10l.94 2.06.94-2.06 2.06-.94-2.06-.94-.94-2.06-.94 2.06-2.06.94z\"/><path d=\"M17.41 7.96l-1.37-1.37c-.4-.4-.92-.59-1.43-.59-.52 0-1.04.2-1.43.59L10.3 9.45l-7.72 7.72c-.78.78-.78 2.05 0 2.83L4 21.41c.39.39.9.59 1.41.59.51 0 1.02-.2 1.41-.59l7.78-7.78 2.81-2.81c.8-.78.8-2.07 0-2.86zM5.41 20L4 18.59l7.72-7.72 1.47 1.35L5.41 20z\"/>\n",
              "  </svg>\n",
              "      </button>\n",
              "\n",
              "\n",
              "\n",
              "    <div id=\"df-4a324ecc-c1ac-4776-9c40-25952cb05525\">\n",
              "      <button class=\"colab-df-quickchart\" onclick=\"quickchart('df-4a324ecc-c1ac-4776-9c40-25952cb05525')\"\n",
              "              title=\"Suggest charts.\"\n",
              "              style=\"display:none;\">\n",
              "\n",
              "<svg xmlns=\"http://www.w3.org/2000/svg\" height=\"24px\"viewBox=\"0 0 24 24\"\n",
              "     width=\"24px\">\n",
              "    <g>\n",
              "        <path d=\"M19 3H5c-1.1 0-2 .9-2 2v14c0 1.1.9 2 2 2h14c1.1 0 2-.9 2-2V5c0-1.1-.9-2-2-2zM9 17H7v-7h2v7zm4 0h-2V7h2v10zm4 0h-2v-4h2v4z\"/>\n",
              "    </g>\n",
              "</svg>\n",
              "      </button>\n",
              "    </div>\n",
              "\n",
              "<style>\n",
              "  .colab-df-quickchart {\n",
              "    background-color: #E8F0FE;\n",
              "    border: none;\n",
              "    border-radius: 50%;\n",
              "    cursor: pointer;\n",
              "    display: none;\n",
              "    fill: #1967D2;\n",
              "    height: 32px;\n",
              "    padding: 0 0 0 0;\n",
              "    width: 32px;\n",
              "  }\n",
              "\n",
              "  .colab-df-quickchart:hover {\n",
              "    background-color: #E2EBFA;\n",
              "    box-shadow: 0px 1px 2px rgba(60, 64, 67, 0.3), 0px 1px 3px 1px rgba(60, 64, 67, 0.15);\n",
              "    fill: #174EA6;\n",
              "  }\n",
              "\n",
              "  [theme=dark] .colab-df-quickchart {\n",
              "    background-color: #3B4455;\n",
              "    fill: #D2E3FC;\n",
              "  }\n",
              "\n",
              "  [theme=dark] .colab-df-quickchart:hover {\n",
              "    background-color: #434B5C;\n",
              "    box-shadow: 0px 1px 3px 1px rgba(0, 0, 0, 0.15);\n",
              "    filter: drop-shadow(0px 1px 2px rgba(0, 0, 0, 0.3));\n",
              "    fill: #FFFFFF;\n",
              "  }\n",
              "</style>\n",
              "\n",
              "    <script>\n",
              "      async function quickchart(key) {\n",
              "        const containerElement = document.querySelector('#' + key);\n",
              "        const charts = await google.colab.kernel.invokeFunction(\n",
              "            'suggestCharts', [key], {});\n",
              "      }\n",
              "    </script>\n",
              "\n",
              "      <script>\n",
              "\n",
              "function displayQuickchartButton(domScope) {\n",
              "  let quickchartButtonEl =\n",
              "    domScope.querySelector('#df-4a324ecc-c1ac-4776-9c40-25952cb05525 button.colab-df-quickchart');\n",
              "  quickchartButtonEl.style.display =\n",
              "    google.colab.kernel.accessAllowed ? 'block' : 'none';\n",
              "}\n",
              "\n",
              "        displayQuickchartButton(document);\n",
              "      </script>\n",
              "      <style>\n",
              "    .colab-df-container {\n",
              "      display:flex;\n",
              "      flex-wrap:wrap;\n",
              "      gap: 12px;\n",
              "    }\n",
              "\n",
              "    .colab-df-convert {\n",
              "      background-color: #E8F0FE;\n",
              "      border: none;\n",
              "      border-radius: 50%;\n",
              "      cursor: pointer;\n",
              "      display: none;\n",
              "      fill: #1967D2;\n",
              "      height: 32px;\n",
              "      padding: 0 0 0 0;\n",
              "      width: 32px;\n",
              "    }\n",
              "\n",
              "    .colab-df-convert:hover {\n",
              "      background-color: #E2EBFA;\n",
              "      box-shadow: 0px 1px 2px rgba(60, 64, 67, 0.3), 0px 1px 3px 1px rgba(60, 64, 67, 0.15);\n",
              "      fill: #174EA6;\n",
              "    }\n",
              "\n",
              "    [theme=dark] .colab-df-convert {\n",
              "      background-color: #3B4455;\n",
              "      fill: #D2E3FC;\n",
              "    }\n",
              "\n",
              "    [theme=dark] .colab-df-convert:hover {\n",
              "      background-color: #434B5C;\n",
              "      box-shadow: 0px 1px 3px 1px rgba(0, 0, 0, 0.15);\n",
              "      filter: drop-shadow(0px 1px 2px rgba(0, 0, 0, 0.3));\n",
              "      fill: #FFFFFF;\n",
              "    }\n",
              "  </style>\n",
              "\n",
              "      <script>\n",
              "        const buttonEl =\n",
              "          document.querySelector('#df-cf1eecae-df61-4b60-b094-cee7d0393206 button.colab-df-convert');\n",
              "        buttonEl.style.display =\n",
              "          google.colab.kernel.accessAllowed ? 'block' : 'none';\n",
              "\n",
              "        async function convertToInteractive(key) {\n",
              "          const element = document.querySelector('#df-cf1eecae-df61-4b60-b094-cee7d0393206');\n",
              "          const dataTable =\n",
              "            await google.colab.kernel.invokeFunction('convertToInteractive',\n",
              "                                                     [key], {});\n",
              "          if (!dataTable) return;\n",
              "\n",
              "          const docLinkHtml = 'Like what you see? Visit the ' +\n",
              "            '<a target=\"_blank\" href=https://colab.research.google.com/notebooks/data_table.ipynb>data table notebook</a>'\n",
              "            + ' to learn more about interactive tables.';\n",
              "          element.innerHTML = '';\n",
              "          dataTable['output_type'] = 'display_data';\n",
              "          await google.colab.output.renderOutput(dataTable, element);\n",
              "          const docLink = document.createElement('div');\n",
              "          docLink.innerHTML = docLinkHtml;\n",
              "          element.appendChild(docLink);\n",
              "        }\n",
              "      </script>\n",
              "    </div>\n",
              "  </div>\n"
            ]
          },
          "metadata": {},
          "execution_count": 120
        }
      ]
    },
    {
      "cell_type": "code",
      "source": [
        "#Países destinatarios de los pedidos\n",
        "paises=ventas_final['COUNTRY'].value_counts()\n",
        "paises"
      ],
      "metadata": {
        "id": "gND95tM_-kZK",
        "colab": {
          "base_uri": "https://localhost:8080/"
        },
        "outputId": "9257938c-cc29-4012-c27c-6833ac5b8a86"
      },
      "execution_count": 121,
      "outputs": [
        {
          "output_type": "execute_result",
          "data": {
            "text/plain": [
              "USA            841\n",
              "Spain          253\n",
              "France         250\n",
              "Australia      142\n",
              "UK             135\n",
              "Italy           99\n",
              "Norway          85\n",
              "Singapore       76\n",
              "Germany         62\n",
              "Canada          61\n",
              "Denmark         60\n",
              "Finland         54\n",
              "Sweden          49\n",
              "Japan           42\n",
              "Austria         38\n",
              "Switzerland     31\n",
              "Philippines     26\n",
              "Belgium         25\n",
              "Ireland         16\n",
              "Name: COUNTRY, dtype: Int64"
            ]
          },
          "metadata": {},
          "execution_count": 121
        }
      ]
    },
    {
      "cell_type": "markdown",
      "source": [
        "### 5. Resúmen de datos"
      ],
      "metadata": {
        "id": "o0AuyiOg4QG-"
      }
    },
    {
      "cell_type": "code",
      "source": [
        "ventas_final.describe()"
      ],
      "metadata": {
        "colab": {
          "base_uri": "https://localhost:8080/",
          "height": 300
        },
        "id": "SNXCIWdmFCoo",
        "outputId": "7fc33b9b-2161-405d-b86c-1f47e12e5618"
      },
      "execution_count": 122,
      "outputs": [
        {
          "output_type": "execute_result",
          "data": {
            "text/plain": [
              "       QUANTITYORDERED    PRICEEACH         SALES\n",
              "count      2345.000000  2345.000000   2345.000000\n",
              "mean         34.727505    83.702021   3514.346328\n",
              "std           9.028843    20.141470   1769.969374\n",
              "min          20.000000    27.220000    577.600000\n",
              "25%          27.000000    69.280000   2207.520000\n",
              "50%          34.000000    95.800000   3167.360000\n",
              "75%          43.000000   100.000000   4441.500000\n",
              "max          55.000000   100.000000  12536.500000"
            ],
            "text/html": [
              "\n",
              "\n",
              "  <div id=\"df-3def677d-332a-4d48-b178-d54a77a1b954\">\n",
              "    <div class=\"colab-df-container\">\n",
              "      <div>\n",
              "<style scoped>\n",
              "    .dataframe tbody tr th:only-of-type {\n",
              "        vertical-align: middle;\n",
              "    }\n",
              "\n",
              "    .dataframe tbody tr th {\n",
              "        vertical-align: top;\n",
              "    }\n",
              "\n",
              "    .dataframe thead th {\n",
              "        text-align: right;\n",
              "    }\n",
              "</style>\n",
              "<table border=\"1\" class=\"dataframe\">\n",
              "  <thead>\n",
              "    <tr style=\"text-align: right;\">\n",
              "      <th></th>\n",
              "      <th>QUANTITYORDERED</th>\n",
              "      <th>PRICEEACH</th>\n",
              "      <th>SALES</th>\n",
              "    </tr>\n",
              "  </thead>\n",
              "  <tbody>\n",
              "    <tr>\n",
              "      <th>count</th>\n",
              "      <td>2345.000000</td>\n",
              "      <td>2345.000000</td>\n",
              "      <td>2345.000000</td>\n",
              "    </tr>\n",
              "    <tr>\n",
              "      <th>mean</th>\n",
              "      <td>34.727505</td>\n",
              "      <td>83.702021</td>\n",
              "      <td>3514.346328</td>\n",
              "    </tr>\n",
              "    <tr>\n",
              "      <th>std</th>\n",
              "      <td>9.028843</td>\n",
              "      <td>20.141470</td>\n",
              "      <td>1769.969374</td>\n",
              "    </tr>\n",
              "    <tr>\n",
              "      <th>min</th>\n",
              "      <td>20.000000</td>\n",
              "      <td>27.220000</td>\n",
              "      <td>577.600000</td>\n",
              "    </tr>\n",
              "    <tr>\n",
              "      <th>25%</th>\n",
              "      <td>27.000000</td>\n",
              "      <td>69.280000</td>\n",
              "      <td>2207.520000</td>\n",
              "    </tr>\n",
              "    <tr>\n",
              "      <th>50%</th>\n",
              "      <td>34.000000</td>\n",
              "      <td>95.800000</td>\n",
              "      <td>3167.360000</td>\n",
              "    </tr>\n",
              "    <tr>\n",
              "      <th>75%</th>\n",
              "      <td>43.000000</td>\n",
              "      <td>100.000000</td>\n",
              "      <td>4441.500000</td>\n",
              "    </tr>\n",
              "    <tr>\n",
              "      <th>max</th>\n",
              "      <td>55.000000</td>\n",
              "      <td>100.000000</td>\n",
              "      <td>12536.500000</td>\n",
              "    </tr>\n",
              "  </tbody>\n",
              "</table>\n",
              "</div>\n",
              "      <button class=\"colab-df-convert\" onclick=\"convertToInteractive('df-3def677d-332a-4d48-b178-d54a77a1b954')\"\n",
              "              title=\"Convert this dataframe to an interactive table.\"\n",
              "              style=\"display:none;\">\n",
              "\n",
              "  <svg xmlns=\"http://www.w3.org/2000/svg\" height=\"24px\"viewBox=\"0 0 24 24\"\n",
              "       width=\"24px\">\n",
              "    <path d=\"M0 0h24v24H0V0z\" fill=\"none\"/>\n",
              "    <path d=\"M18.56 5.44l.94 2.06.94-2.06 2.06-.94-2.06-.94-.94-2.06-.94 2.06-2.06.94zm-11 1L8.5 8.5l.94-2.06 2.06-.94-2.06-.94L8.5 2.5l-.94 2.06-2.06.94zm10 10l.94 2.06.94-2.06 2.06-.94-2.06-.94-.94-2.06-.94 2.06-2.06.94z\"/><path d=\"M17.41 7.96l-1.37-1.37c-.4-.4-.92-.59-1.43-.59-.52 0-1.04.2-1.43.59L10.3 9.45l-7.72 7.72c-.78.78-.78 2.05 0 2.83L4 21.41c.39.39.9.59 1.41.59.51 0 1.02-.2 1.41-.59l7.78-7.78 2.81-2.81c.8-.78.8-2.07 0-2.86zM5.41 20L4 18.59l7.72-7.72 1.47 1.35L5.41 20z\"/>\n",
              "  </svg>\n",
              "      </button>\n",
              "\n",
              "\n",
              "\n",
              "    <div id=\"df-3fe0e8b8-bf84-4e3b-9ed6-345a8dfecc14\">\n",
              "      <button class=\"colab-df-quickchart\" onclick=\"quickchart('df-3fe0e8b8-bf84-4e3b-9ed6-345a8dfecc14')\"\n",
              "              title=\"Suggest charts.\"\n",
              "              style=\"display:none;\">\n",
              "\n",
              "<svg xmlns=\"http://www.w3.org/2000/svg\" height=\"24px\"viewBox=\"0 0 24 24\"\n",
              "     width=\"24px\">\n",
              "    <g>\n",
              "        <path d=\"M19 3H5c-1.1 0-2 .9-2 2v14c0 1.1.9 2 2 2h14c1.1 0 2-.9 2-2V5c0-1.1-.9-2-2-2zM9 17H7v-7h2v7zm4 0h-2V7h2v10zm4 0h-2v-4h2v4z\"/>\n",
              "    </g>\n",
              "</svg>\n",
              "      </button>\n",
              "    </div>\n",
              "\n",
              "<style>\n",
              "  .colab-df-quickchart {\n",
              "    background-color: #E8F0FE;\n",
              "    border: none;\n",
              "    border-radius: 50%;\n",
              "    cursor: pointer;\n",
              "    display: none;\n",
              "    fill: #1967D2;\n",
              "    height: 32px;\n",
              "    padding: 0 0 0 0;\n",
              "    width: 32px;\n",
              "  }\n",
              "\n",
              "  .colab-df-quickchart:hover {\n",
              "    background-color: #E2EBFA;\n",
              "    box-shadow: 0px 1px 2px rgba(60, 64, 67, 0.3), 0px 1px 3px 1px rgba(60, 64, 67, 0.15);\n",
              "    fill: #174EA6;\n",
              "  }\n",
              "\n",
              "  [theme=dark] .colab-df-quickchart {\n",
              "    background-color: #3B4455;\n",
              "    fill: #D2E3FC;\n",
              "  }\n",
              "\n",
              "  [theme=dark] .colab-df-quickchart:hover {\n",
              "    background-color: #434B5C;\n",
              "    box-shadow: 0px 1px 3px 1px rgba(0, 0, 0, 0.15);\n",
              "    filter: drop-shadow(0px 1px 2px rgba(0, 0, 0, 0.3));\n",
              "    fill: #FFFFFF;\n",
              "  }\n",
              "</style>\n",
              "\n",
              "    <script>\n",
              "      async function quickchart(key) {\n",
              "        const containerElement = document.querySelector('#' + key);\n",
              "        const charts = await google.colab.kernel.invokeFunction(\n",
              "            'suggestCharts', [key], {});\n",
              "      }\n",
              "    </script>\n",
              "\n",
              "      <script>\n",
              "\n",
              "function displayQuickchartButton(domScope) {\n",
              "  let quickchartButtonEl =\n",
              "    domScope.querySelector('#df-3fe0e8b8-bf84-4e3b-9ed6-345a8dfecc14 button.colab-df-quickchart');\n",
              "  quickchartButtonEl.style.display =\n",
              "    google.colab.kernel.accessAllowed ? 'block' : 'none';\n",
              "}\n",
              "\n",
              "        displayQuickchartButton(document);\n",
              "      </script>\n",
              "      <style>\n",
              "    .colab-df-container {\n",
              "      display:flex;\n",
              "      flex-wrap:wrap;\n",
              "      gap: 12px;\n",
              "    }\n",
              "\n",
              "    .colab-df-convert {\n",
              "      background-color: #E8F0FE;\n",
              "      border: none;\n",
              "      border-radius: 50%;\n",
              "      cursor: pointer;\n",
              "      display: none;\n",
              "      fill: #1967D2;\n",
              "      height: 32px;\n",
              "      padding: 0 0 0 0;\n",
              "      width: 32px;\n",
              "    }\n",
              "\n",
              "    .colab-df-convert:hover {\n",
              "      background-color: #E2EBFA;\n",
              "      box-shadow: 0px 1px 2px rgba(60, 64, 67, 0.3), 0px 1px 3px 1px rgba(60, 64, 67, 0.15);\n",
              "      fill: #174EA6;\n",
              "    }\n",
              "\n",
              "    [theme=dark] .colab-df-convert {\n",
              "      background-color: #3B4455;\n",
              "      fill: #D2E3FC;\n",
              "    }\n",
              "\n",
              "    [theme=dark] .colab-df-convert:hover {\n",
              "      background-color: #434B5C;\n",
              "      box-shadow: 0px 1px 3px 1px rgba(0, 0, 0, 0.15);\n",
              "      filter: drop-shadow(0px 1px 2px rgba(0, 0, 0, 0.3));\n",
              "      fill: #FFFFFF;\n",
              "    }\n",
              "  </style>\n",
              "\n",
              "      <script>\n",
              "        const buttonEl =\n",
              "          document.querySelector('#df-3def677d-332a-4d48-b178-d54a77a1b954 button.colab-df-convert');\n",
              "        buttonEl.style.display =\n",
              "          google.colab.kernel.accessAllowed ? 'block' : 'none';\n",
              "\n",
              "        async function convertToInteractive(key) {\n",
              "          const element = document.querySelector('#df-3def677d-332a-4d48-b178-d54a77a1b954');\n",
              "          const dataTable =\n",
              "            await google.colab.kernel.invokeFunction('convertToInteractive',\n",
              "                                                     [key], {});\n",
              "          if (!dataTable) return;\n",
              "\n",
              "          const docLinkHtml = 'Like what you see? Visit the ' +\n",
              "            '<a target=\"_blank\" href=https://colab.research.google.com/notebooks/data_table.ipynb>data table notebook</a>'\n",
              "            + ' to learn more about interactive tables.';\n",
              "          element.innerHTML = '';\n",
              "          dataTable['output_type'] = 'display_data';\n",
              "          await google.colab.output.renderOutput(dataTable, element);\n",
              "          const docLink = document.createElement('div');\n",
              "          docLink.innerHTML = docLinkHtml;\n",
              "          element.appendChild(docLink);\n",
              "        }\n",
              "      </script>\n",
              "    </div>\n",
              "  </div>\n"
            ]
          },
          "metadata": {},
          "execution_count": 122
        }
      ]
    },
    {
      "cell_type": "markdown",
      "source": [
        "Se tienen 2345 registros en el dataframe analizado, todos con valor en las columnas de cantidad, precio unitario y precio total.\n",
        "\n",
        "Respecto a QUANTITYORDERED (cantidad pedida)\n",
        "\n",
        "* La cantidad promedio pedida por producto, es de 34.73 unidades (mean).\n",
        "* Según la desvación estándar, esa cantidad puede ser 34 +/- 9.028, aproximadamente.\n",
        "* La menor cantidad pedida fue de 20 unidades (min) y la mayor de 55 unidades (max). Es decir, en todo registro, como mínimo se pidieron 20 unidades de un producto y como máximo 55.\n",
        "* El 25% de los registros tiene 27 unidades pedidas o menos; el 75% cantidades superiores a ese valor.\n",
        "* El 50% de los registros tiene 34 unidades pedidas o menos. Este valor coincide prácticamente con la media, con lo cual no se observan valores atípicos. El otro 50% incluye cantidades superiores.\n",
        "* El 75% de los registros tiene 43 unidades pedidas o menos; el 25% cantidades superiores a ese valor.\n",
        "\n",
        "Respecto a PRICEEACH (precio unitario)\n",
        "* El precio promedio de los productos pedidos es de 83.70 dólares, aproximadamente (mean).\n",
        "* Con una desvación estándar de 20.14, ese precio puede variar en promedio +/- 20.14 dólares.\n",
        "* El producto más barato incluido en un pedido tiene un precio de 27.22 dólares (min), y el más caro de 100.00 (max).\n",
        "* El 25% de los productos tiene un precio de 69.28 dólares o menos; el 75% tiene un precio superior.\n",
        "* El 50% de los productos tiene un precio de 95.80 dólares o menos. **No coincide exactamente con la media (mean). El otro 50% tiene precios superiores.**\n",
        "* El 75% de los productos tiene un precio de 100 dólares o menos. El 25% de 100.00; se interpreta 100.00 para el 25% restante porque ese es el valor máximo obtenido (no hay precio mayor a 100).\n",
        "\n"
      ],
      "metadata": {
        "id": "yYrgDNL3jUP0"
      }
    },
    {
      "cell_type": "code",
      "source": [
        "#Montos de ventas anuales por estado\n",
        "ventas_estado=ventas_final.groupby(['YEAR_ID','STATUS'])['SALES'].sum().reset_index().sort_values(['STATUS','SALES'], ascending=True)\n",
        "ventas_estado"
      ],
      "metadata": {
        "colab": {
          "base_uri": "https://localhost:8080/",
          "height": 269
        },
        "id": "UPrZ81DVEtAU",
        "outputId": "5667ec1b-63da-4c8e-c7c3-597e90a81617"
      },
      "execution_count": 123,
      "outputs": [
        {
          "output_type": "execute_result",
          "data": {
            "text/plain": [
              "  YEAR_ID     STATUS       SALES\n",
              "0    2003  Cancelled    48710.92\n",
              "3    2004  Cancelled   145776.56\n",
              "4    2004    On Hold    26260.21\n",
              "5    2004   Resolved    24078.61\n",
              "1    2003   Resolved    28550.59\n",
              "2    2003    Shipped  3439718.03\n",
              "6    2004    Shipped  4528047.22"
            ],
            "text/html": [
              "\n",
              "\n",
              "  <div id=\"df-f455cb03-c8d9-40b7-bc72-ab053598189b\">\n",
              "    <div class=\"colab-df-container\">\n",
              "      <div>\n",
              "<style scoped>\n",
              "    .dataframe tbody tr th:only-of-type {\n",
              "        vertical-align: middle;\n",
              "    }\n",
              "\n",
              "    .dataframe tbody tr th {\n",
              "        vertical-align: top;\n",
              "    }\n",
              "\n",
              "    .dataframe thead th {\n",
              "        text-align: right;\n",
              "    }\n",
              "</style>\n",
              "<table border=\"1\" class=\"dataframe\">\n",
              "  <thead>\n",
              "    <tr style=\"text-align: right;\">\n",
              "      <th></th>\n",
              "      <th>YEAR_ID</th>\n",
              "      <th>STATUS</th>\n",
              "      <th>SALES</th>\n",
              "    </tr>\n",
              "  </thead>\n",
              "  <tbody>\n",
              "    <tr>\n",
              "      <th>0</th>\n",
              "      <td>2003</td>\n",
              "      <td>Cancelled</td>\n",
              "      <td>48710.92</td>\n",
              "    </tr>\n",
              "    <tr>\n",
              "      <th>3</th>\n",
              "      <td>2004</td>\n",
              "      <td>Cancelled</td>\n",
              "      <td>145776.56</td>\n",
              "    </tr>\n",
              "    <tr>\n",
              "      <th>4</th>\n",
              "      <td>2004</td>\n",
              "      <td>On Hold</td>\n",
              "      <td>26260.21</td>\n",
              "    </tr>\n",
              "    <tr>\n",
              "      <th>5</th>\n",
              "      <td>2004</td>\n",
              "      <td>Resolved</td>\n",
              "      <td>24078.61</td>\n",
              "    </tr>\n",
              "    <tr>\n",
              "      <th>1</th>\n",
              "      <td>2003</td>\n",
              "      <td>Resolved</td>\n",
              "      <td>28550.59</td>\n",
              "    </tr>\n",
              "    <tr>\n",
              "      <th>2</th>\n",
              "      <td>2003</td>\n",
              "      <td>Shipped</td>\n",
              "      <td>3439718.03</td>\n",
              "    </tr>\n",
              "    <tr>\n",
              "      <th>6</th>\n",
              "      <td>2004</td>\n",
              "      <td>Shipped</td>\n",
              "      <td>4528047.22</td>\n",
              "    </tr>\n",
              "  </tbody>\n",
              "</table>\n",
              "</div>\n",
              "      <button class=\"colab-df-convert\" onclick=\"convertToInteractive('df-f455cb03-c8d9-40b7-bc72-ab053598189b')\"\n",
              "              title=\"Convert this dataframe to an interactive table.\"\n",
              "              style=\"display:none;\">\n",
              "\n",
              "  <svg xmlns=\"http://www.w3.org/2000/svg\" height=\"24px\"viewBox=\"0 0 24 24\"\n",
              "       width=\"24px\">\n",
              "    <path d=\"M0 0h24v24H0V0z\" fill=\"none\"/>\n",
              "    <path d=\"M18.56 5.44l.94 2.06.94-2.06 2.06-.94-2.06-.94-.94-2.06-.94 2.06-2.06.94zm-11 1L8.5 8.5l.94-2.06 2.06-.94-2.06-.94L8.5 2.5l-.94 2.06-2.06.94zm10 10l.94 2.06.94-2.06 2.06-.94-2.06-.94-.94-2.06-.94 2.06-2.06.94z\"/><path d=\"M17.41 7.96l-1.37-1.37c-.4-.4-.92-.59-1.43-.59-.52 0-1.04.2-1.43.59L10.3 9.45l-7.72 7.72c-.78.78-.78 2.05 0 2.83L4 21.41c.39.39.9.59 1.41.59.51 0 1.02-.2 1.41-.59l7.78-7.78 2.81-2.81c.8-.78.8-2.07 0-2.86zM5.41 20L4 18.59l7.72-7.72 1.47 1.35L5.41 20z\"/>\n",
              "  </svg>\n",
              "      </button>\n",
              "\n",
              "\n",
              "\n",
              "    <div id=\"df-230f5fbd-b430-4c9f-a81a-ffcb0ad65437\">\n",
              "      <button class=\"colab-df-quickchart\" onclick=\"quickchart('df-230f5fbd-b430-4c9f-a81a-ffcb0ad65437')\"\n",
              "              title=\"Suggest charts.\"\n",
              "              style=\"display:none;\">\n",
              "\n",
              "<svg xmlns=\"http://www.w3.org/2000/svg\" height=\"24px\"viewBox=\"0 0 24 24\"\n",
              "     width=\"24px\">\n",
              "    <g>\n",
              "        <path d=\"M19 3H5c-1.1 0-2 .9-2 2v14c0 1.1.9 2 2 2h14c1.1 0 2-.9 2-2V5c0-1.1-.9-2-2-2zM9 17H7v-7h2v7zm4 0h-2V7h2v10zm4 0h-2v-4h2v4z\"/>\n",
              "    </g>\n",
              "</svg>\n",
              "      </button>\n",
              "    </div>\n",
              "\n",
              "<style>\n",
              "  .colab-df-quickchart {\n",
              "    background-color: #E8F0FE;\n",
              "    border: none;\n",
              "    border-radius: 50%;\n",
              "    cursor: pointer;\n",
              "    display: none;\n",
              "    fill: #1967D2;\n",
              "    height: 32px;\n",
              "    padding: 0 0 0 0;\n",
              "    width: 32px;\n",
              "  }\n",
              "\n",
              "  .colab-df-quickchart:hover {\n",
              "    background-color: #E2EBFA;\n",
              "    box-shadow: 0px 1px 2px rgba(60, 64, 67, 0.3), 0px 1px 3px 1px rgba(60, 64, 67, 0.15);\n",
              "    fill: #174EA6;\n",
              "  }\n",
              "\n",
              "  [theme=dark] .colab-df-quickchart {\n",
              "    background-color: #3B4455;\n",
              "    fill: #D2E3FC;\n",
              "  }\n",
              "\n",
              "  [theme=dark] .colab-df-quickchart:hover {\n",
              "    background-color: #434B5C;\n",
              "    box-shadow: 0px 1px 3px 1px rgba(0, 0, 0, 0.15);\n",
              "    filter: drop-shadow(0px 1px 2px rgba(0, 0, 0, 0.3));\n",
              "    fill: #FFFFFF;\n",
              "  }\n",
              "</style>\n",
              "\n",
              "    <script>\n",
              "      async function quickchart(key) {\n",
              "        const containerElement = document.querySelector('#' + key);\n",
              "        const charts = await google.colab.kernel.invokeFunction(\n",
              "            'suggestCharts', [key], {});\n",
              "      }\n",
              "    </script>\n",
              "\n",
              "      <script>\n",
              "\n",
              "function displayQuickchartButton(domScope) {\n",
              "  let quickchartButtonEl =\n",
              "    domScope.querySelector('#df-230f5fbd-b430-4c9f-a81a-ffcb0ad65437 button.colab-df-quickchart');\n",
              "  quickchartButtonEl.style.display =\n",
              "    google.colab.kernel.accessAllowed ? 'block' : 'none';\n",
              "}\n",
              "\n",
              "        displayQuickchartButton(document);\n",
              "      </script>\n",
              "      <style>\n",
              "    .colab-df-container {\n",
              "      display:flex;\n",
              "      flex-wrap:wrap;\n",
              "      gap: 12px;\n",
              "    }\n",
              "\n",
              "    .colab-df-convert {\n",
              "      background-color: #E8F0FE;\n",
              "      border: none;\n",
              "      border-radius: 50%;\n",
              "      cursor: pointer;\n",
              "      display: none;\n",
              "      fill: #1967D2;\n",
              "      height: 32px;\n",
              "      padding: 0 0 0 0;\n",
              "      width: 32px;\n",
              "    }\n",
              "\n",
              "    .colab-df-convert:hover {\n",
              "      background-color: #E2EBFA;\n",
              "      box-shadow: 0px 1px 2px rgba(60, 64, 67, 0.3), 0px 1px 3px 1px rgba(60, 64, 67, 0.15);\n",
              "      fill: #174EA6;\n",
              "    }\n",
              "\n",
              "    [theme=dark] .colab-df-convert {\n",
              "      background-color: #3B4455;\n",
              "      fill: #D2E3FC;\n",
              "    }\n",
              "\n",
              "    [theme=dark] .colab-df-convert:hover {\n",
              "      background-color: #434B5C;\n",
              "      box-shadow: 0px 1px 3px 1px rgba(0, 0, 0, 0.15);\n",
              "      filter: drop-shadow(0px 1px 2px rgba(0, 0, 0, 0.3));\n",
              "      fill: #FFFFFF;\n",
              "    }\n",
              "  </style>\n",
              "\n",
              "      <script>\n",
              "        const buttonEl =\n",
              "          document.querySelector('#df-f455cb03-c8d9-40b7-bc72-ab053598189b button.colab-df-convert');\n",
              "        buttonEl.style.display =\n",
              "          google.colab.kernel.accessAllowed ? 'block' : 'none';\n",
              "\n",
              "        async function convertToInteractive(key) {\n",
              "          const element = document.querySelector('#df-f455cb03-c8d9-40b7-bc72-ab053598189b');\n",
              "          const dataTable =\n",
              "            await google.colab.kernel.invokeFunction('convertToInteractive',\n",
              "                                                     [key], {});\n",
              "          if (!dataTable) return;\n",
              "\n",
              "          const docLinkHtml = 'Like what you see? Visit the ' +\n",
              "            '<a target=\"_blank\" href=https://colab.research.google.com/notebooks/data_table.ipynb>data table notebook</a>'\n",
              "            + ' to learn more about interactive tables.';\n",
              "          element.innerHTML = '';\n",
              "          dataTable['output_type'] = 'display_data';\n",
              "          await google.colab.output.renderOutput(dataTable, element);\n",
              "          const docLink = document.createElement('div');\n",
              "          docLink.innerHTML = docLinkHtml;\n",
              "          element.appendChild(docLink);\n",
              "        }\n",
              "      </script>\n",
              "    </div>\n",
              "  </div>\n"
            ]
          },
          "metadata": {},
          "execution_count": 123
        }
      ]
    },
    {
      "cell_type": "markdown",
      "source": [
        "De lo anterior se observa: un incremento en pedidos/ventas cancelados,  triplicándose prácticamente el monto de un año al otro; un aumento en el monto de los pedidos enviados de un año al otro, y el resto de los estados en general se mantienen.\n",
        "\n",
        "Debido a lo anterior, a continuación se observa puntualmente la distribución de categorías canceladas por año, para un mejor análisis."
      ],
      "metadata": {
        "id": "LSob2JkNJAYC"
      }
    },
    {
      "cell_type": "code",
      "source": [
        "#Cantidad de unidades canceladas por categoría/año\n",
        "cancelados=ventas_final.loc[ventas_final['STATUS'] =='Cancelled']\n",
        "pedidos_cancelados=cancelados.groupby(['YEAR_ID','PRODUCTLINE'])['QUANTITYORDERED'].sum().reset_index().sort_values(['PRODUCTLINE','QUANTITYORDERED'], ascending=True)\n",
        "pedidos_cancelados"
      ],
      "metadata": {
        "colab": {
          "base_uri": "https://localhost:8080/",
          "height": 332
        },
        "id": "hE7S1TXJIHyw",
        "outputId": "169c1d69-aa4a-4bef-c56f-4917357922e0"
      },
      "execution_count": 124,
      "outputs": [
        {
          "output_type": "execute_result",
          "data": {
            "text/plain": [
              "  YEAR_ID   PRODUCTLINE  QUANTITYORDERED\n",
              "0    2003  Classic Cars               44\n",
              "4    2004  Classic Cars              449\n",
              "1    2003        Planes              104\n",
              "5    2004        Planes              311\n",
              "2    2003         Ships              287\n",
              "6    2004         Ships              341\n",
              "7    2004        Trains               42\n",
              "3    2003  Vintage Cars              115\n",
              "8    2004  Vintage Cars              345"
            ],
            "text/html": [
              "\n",
              "\n",
              "  <div id=\"df-d3ff1f8b-dc85-4371-9ca0-3f9160ed8778\">\n",
              "    <div class=\"colab-df-container\">\n",
              "      <div>\n",
              "<style scoped>\n",
              "    .dataframe tbody tr th:only-of-type {\n",
              "        vertical-align: middle;\n",
              "    }\n",
              "\n",
              "    .dataframe tbody tr th {\n",
              "        vertical-align: top;\n",
              "    }\n",
              "\n",
              "    .dataframe thead th {\n",
              "        text-align: right;\n",
              "    }\n",
              "</style>\n",
              "<table border=\"1\" class=\"dataframe\">\n",
              "  <thead>\n",
              "    <tr style=\"text-align: right;\">\n",
              "      <th></th>\n",
              "      <th>YEAR_ID</th>\n",
              "      <th>PRODUCTLINE</th>\n",
              "      <th>QUANTITYORDERED</th>\n",
              "    </tr>\n",
              "  </thead>\n",
              "  <tbody>\n",
              "    <tr>\n",
              "      <th>0</th>\n",
              "      <td>2003</td>\n",
              "      <td>Classic Cars</td>\n",
              "      <td>44</td>\n",
              "    </tr>\n",
              "    <tr>\n",
              "      <th>4</th>\n",
              "      <td>2004</td>\n",
              "      <td>Classic Cars</td>\n",
              "      <td>449</td>\n",
              "    </tr>\n",
              "    <tr>\n",
              "      <th>1</th>\n",
              "      <td>2003</td>\n",
              "      <td>Planes</td>\n",
              "      <td>104</td>\n",
              "    </tr>\n",
              "    <tr>\n",
              "      <th>5</th>\n",
              "      <td>2004</td>\n",
              "      <td>Planes</td>\n",
              "      <td>311</td>\n",
              "    </tr>\n",
              "    <tr>\n",
              "      <th>2</th>\n",
              "      <td>2003</td>\n",
              "      <td>Ships</td>\n",
              "      <td>287</td>\n",
              "    </tr>\n",
              "    <tr>\n",
              "      <th>6</th>\n",
              "      <td>2004</td>\n",
              "      <td>Ships</td>\n",
              "      <td>341</td>\n",
              "    </tr>\n",
              "    <tr>\n",
              "      <th>7</th>\n",
              "      <td>2004</td>\n",
              "      <td>Trains</td>\n",
              "      <td>42</td>\n",
              "    </tr>\n",
              "    <tr>\n",
              "      <th>3</th>\n",
              "      <td>2003</td>\n",
              "      <td>Vintage Cars</td>\n",
              "      <td>115</td>\n",
              "    </tr>\n",
              "    <tr>\n",
              "      <th>8</th>\n",
              "      <td>2004</td>\n",
              "      <td>Vintage Cars</td>\n",
              "      <td>345</td>\n",
              "    </tr>\n",
              "  </tbody>\n",
              "</table>\n",
              "</div>\n",
              "      <button class=\"colab-df-convert\" onclick=\"convertToInteractive('df-d3ff1f8b-dc85-4371-9ca0-3f9160ed8778')\"\n",
              "              title=\"Convert this dataframe to an interactive table.\"\n",
              "              style=\"display:none;\">\n",
              "\n",
              "  <svg xmlns=\"http://www.w3.org/2000/svg\" height=\"24px\"viewBox=\"0 0 24 24\"\n",
              "       width=\"24px\">\n",
              "    <path d=\"M0 0h24v24H0V0z\" fill=\"none\"/>\n",
              "    <path d=\"M18.56 5.44l.94 2.06.94-2.06 2.06-.94-2.06-.94-.94-2.06-.94 2.06-2.06.94zm-11 1L8.5 8.5l.94-2.06 2.06-.94-2.06-.94L8.5 2.5l-.94 2.06-2.06.94zm10 10l.94 2.06.94-2.06 2.06-.94-2.06-.94-.94-2.06-.94 2.06-2.06.94z\"/><path d=\"M17.41 7.96l-1.37-1.37c-.4-.4-.92-.59-1.43-.59-.52 0-1.04.2-1.43.59L10.3 9.45l-7.72 7.72c-.78.78-.78 2.05 0 2.83L4 21.41c.39.39.9.59 1.41.59.51 0 1.02-.2 1.41-.59l7.78-7.78 2.81-2.81c.8-.78.8-2.07 0-2.86zM5.41 20L4 18.59l7.72-7.72 1.47 1.35L5.41 20z\"/>\n",
              "  </svg>\n",
              "      </button>\n",
              "\n",
              "\n",
              "\n",
              "    <div id=\"df-2598bbf4-0d93-478f-80c3-6e3afb38d48f\">\n",
              "      <button class=\"colab-df-quickchart\" onclick=\"quickchart('df-2598bbf4-0d93-478f-80c3-6e3afb38d48f')\"\n",
              "              title=\"Suggest charts.\"\n",
              "              style=\"display:none;\">\n",
              "\n",
              "<svg xmlns=\"http://www.w3.org/2000/svg\" height=\"24px\"viewBox=\"0 0 24 24\"\n",
              "     width=\"24px\">\n",
              "    <g>\n",
              "        <path d=\"M19 3H5c-1.1 0-2 .9-2 2v14c0 1.1.9 2 2 2h14c1.1 0 2-.9 2-2V5c0-1.1-.9-2-2-2zM9 17H7v-7h2v7zm4 0h-2V7h2v10zm4 0h-2v-4h2v4z\"/>\n",
              "    </g>\n",
              "</svg>\n",
              "      </button>\n",
              "    </div>\n",
              "\n",
              "<style>\n",
              "  .colab-df-quickchart {\n",
              "    background-color: #E8F0FE;\n",
              "    border: none;\n",
              "    border-radius: 50%;\n",
              "    cursor: pointer;\n",
              "    display: none;\n",
              "    fill: #1967D2;\n",
              "    height: 32px;\n",
              "    padding: 0 0 0 0;\n",
              "    width: 32px;\n",
              "  }\n",
              "\n",
              "  .colab-df-quickchart:hover {\n",
              "    background-color: #E2EBFA;\n",
              "    box-shadow: 0px 1px 2px rgba(60, 64, 67, 0.3), 0px 1px 3px 1px rgba(60, 64, 67, 0.15);\n",
              "    fill: #174EA6;\n",
              "  }\n",
              "\n",
              "  [theme=dark] .colab-df-quickchart {\n",
              "    background-color: #3B4455;\n",
              "    fill: #D2E3FC;\n",
              "  }\n",
              "\n",
              "  [theme=dark] .colab-df-quickchart:hover {\n",
              "    background-color: #434B5C;\n",
              "    box-shadow: 0px 1px 3px 1px rgba(0, 0, 0, 0.15);\n",
              "    filter: drop-shadow(0px 1px 2px rgba(0, 0, 0, 0.3));\n",
              "    fill: #FFFFFF;\n",
              "  }\n",
              "</style>\n",
              "\n",
              "    <script>\n",
              "      async function quickchart(key) {\n",
              "        const containerElement = document.querySelector('#' + key);\n",
              "        const charts = await google.colab.kernel.invokeFunction(\n",
              "            'suggestCharts', [key], {});\n",
              "      }\n",
              "    </script>\n",
              "\n",
              "      <script>\n",
              "\n",
              "function displayQuickchartButton(domScope) {\n",
              "  let quickchartButtonEl =\n",
              "    domScope.querySelector('#df-2598bbf4-0d93-478f-80c3-6e3afb38d48f button.colab-df-quickchart');\n",
              "  quickchartButtonEl.style.display =\n",
              "    google.colab.kernel.accessAllowed ? 'block' : 'none';\n",
              "}\n",
              "\n",
              "        displayQuickchartButton(document);\n",
              "      </script>\n",
              "      <style>\n",
              "    .colab-df-container {\n",
              "      display:flex;\n",
              "      flex-wrap:wrap;\n",
              "      gap: 12px;\n",
              "    }\n",
              "\n",
              "    .colab-df-convert {\n",
              "      background-color: #E8F0FE;\n",
              "      border: none;\n",
              "      border-radius: 50%;\n",
              "      cursor: pointer;\n",
              "      display: none;\n",
              "      fill: #1967D2;\n",
              "      height: 32px;\n",
              "      padding: 0 0 0 0;\n",
              "      width: 32px;\n",
              "    }\n",
              "\n",
              "    .colab-df-convert:hover {\n",
              "      background-color: #E2EBFA;\n",
              "      box-shadow: 0px 1px 2px rgba(60, 64, 67, 0.3), 0px 1px 3px 1px rgba(60, 64, 67, 0.15);\n",
              "      fill: #174EA6;\n",
              "    }\n",
              "\n",
              "    [theme=dark] .colab-df-convert {\n",
              "      background-color: #3B4455;\n",
              "      fill: #D2E3FC;\n",
              "    }\n",
              "\n",
              "    [theme=dark] .colab-df-convert:hover {\n",
              "      background-color: #434B5C;\n",
              "      box-shadow: 0px 1px 3px 1px rgba(0, 0, 0, 0.15);\n",
              "      filter: drop-shadow(0px 1px 2px rgba(0, 0, 0, 0.3));\n",
              "      fill: #FFFFFF;\n",
              "    }\n",
              "  </style>\n",
              "\n",
              "      <script>\n",
              "        const buttonEl =\n",
              "          document.querySelector('#df-d3ff1f8b-dc85-4371-9ca0-3f9160ed8778 button.colab-df-convert');\n",
              "        buttonEl.style.display =\n",
              "          google.colab.kernel.accessAllowed ? 'block' : 'none';\n",
              "\n",
              "        async function convertToInteractive(key) {\n",
              "          const element = document.querySelector('#df-d3ff1f8b-dc85-4371-9ca0-3f9160ed8778');\n",
              "          const dataTable =\n",
              "            await google.colab.kernel.invokeFunction('convertToInteractive',\n",
              "                                                     [key], {});\n",
              "          if (!dataTable) return;\n",
              "\n",
              "          const docLinkHtml = 'Like what you see? Visit the ' +\n",
              "            '<a target=\"_blank\" href=https://colab.research.google.com/notebooks/data_table.ipynb>data table notebook</a>'\n",
              "            + ' to learn more about interactive tables.';\n",
              "          element.innerHTML = '';\n",
              "          dataTable['output_type'] = 'display_data';\n",
              "          await google.colab.output.renderOutput(dataTable, element);\n",
              "          const docLink = document.createElement('div');\n",
              "          docLink.innerHTML = docLinkHtml;\n",
              "          element.appendChild(docLink);\n",
              "        }\n",
              "      </script>\n",
              "    </div>\n",
              "  </div>\n"
            ]
          },
          "metadata": {},
          "execution_count": 124
        }
      ]
    },
    {
      "cell_type": "markdown",
      "source": [
        "De lo anterior se observa: todas las categorías han aumentado de un año al otro la cantidad de unidades canceladas, siendo el más significativo en la categoría \"Classic Cars\"; también aparece \"Trains\", que en el año anterior no había tenido cancelados."
      ],
      "metadata": {
        "id": "fJYEa9k2NyeK"
      }
    },
    {
      "cell_type": "markdown",
      "source": [
        "En el análisis de montos/ventas realizado a continuación se descartan los \"Cancelados\" (status=Cancelled).\n"
      ],
      "metadata": {
        "id": "DfSgrHx7-xU9"
      }
    },
    {
      "cell_type": "code",
      "source": [
        "#Subconjunto pedidos no cancelados\n",
        "ventas_no_cancel=ventas_final.loc[ventas_final['STATUS'] !='Cancelled']"
      ],
      "metadata": {
        "id": "WG-OB46aBqS9"
      },
      "execution_count": 125,
      "outputs": []
    },
    {
      "cell_type": "code",
      "source": [
        "#Montos de ventas por año\n",
        "ventas_anio = ventas_no_cancel.groupby('YEAR_ID')['SALES'].sum().sort_values()\n",
        "ventas_anio"
      ],
      "metadata": {
        "id": "kWimC2dxojEx",
        "colab": {
          "base_uri": "https://localhost:8080/"
        },
        "outputId": "6a1e3c4f-3f3f-4248-ee82-f6667c1092b5"
      },
      "execution_count": 126,
      "outputs": [
        {
          "output_type": "execute_result",
          "data": {
            "text/plain": [
              "YEAR_ID\n",
              "2003    3468268.62\n",
              "2004    4578386.04\n",
              "Name: SALES, dtype: float64"
            ]
          },
          "metadata": {},
          "execution_count": 126
        }
      ]
    },
    {
      "cell_type": "code",
      "source": [
        "#Montos de ventas por año, agrupados por categoría de producto\n",
        "ventas_anio_categ = ventas_no_cancel.groupby(['YEAR_ID','PRODUCTLINE'])['SALES'].sum().sort_values()\n",
        "ventas_anio_categ"
      ],
      "metadata": {
        "id": "uzcTHl2_qpHF",
        "colab": {
          "base_uri": "https://localhost:8080/"
        },
        "outputId": "aac071a1-2c2d-477b-af1e-b68edfc413a8"
      },
      "execution_count": 127,
      "outputs": [
        {
          "output_type": "execute_result",
          "data": {
            "text/plain": [
              "YEAR_ID  PRODUCTLINE     \n",
              "2003     Trains                72802.29\n",
              "2004     Trains               111441.43\n",
              "2003     Ships                220578.49\n",
              "         Planes               263358.00\n",
              "2004     Ships                309014.92\n",
              "2003     Motorcycles          370895.58\n",
              "         Trucks and Buses     420429.93\n",
              "2004     Planes               476138.69\n",
              "         Trucks and Buses     529302.89\n",
              "         Motorcycles          560545.23\n",
              "2003     Vintage Cars         641343.20\n",
              "2004     Vintage Cars         883004.44\n",
              "2003     Classic Cars        1478861.13\n",
              "2004     Classic Cars        1708938.44\n",
              "Name: SALES, dtype: float64"
            ]
          },
          "metadata": {},
          "execution_count": 127
        }
      ]
    },
    {
      "cell_type": "code",
      "source": [
        "#Cantidad y monto total, agrupados por categoría de producto\n",
        "cantidad_ventas_categ = ventas_no_cancel.groupby('PRODUCTLINE')['QUANTITYORDERED','SALES'].sum().sort_values('SALES', ascending=False)\n",
        "cantidad_ventas_categ"
      ],
      "metadata": {
        "id": "NMrnRZEn4Yyx",
        "colab": {
          "base_uri": "https://localhost:8080/",
          "height": 335
        },
        "outputId": "73d8cb81-ddf8-4777-bb61-25ed68112b1e"
      },
      "execution_count": 128,
      "outputs": [
        {
          "output_type": "stream",
          "name": "stderr",
          "text": [
            "<ipython-input-128-66d357a4bebf>:2: FutureWarning: Indexing with multiple keys (implicitly converted to a tuple of keys) will be deprecated, use a list instead.\n",
            "  cantidad_ventas_categ = ventas_no_cancel.groupby('PRODUCTLINE')['QUANTITYORDERED','SALES'].sum().sort_values('SALES', ascending=False)\n"
          ]
        },
        {
          "output_type": "execute_result",
          "data": {
            "text/plain": [
              "                  QUANTITYORDERED       SALES\n",
              "PRODUCTLINE                                  \n",
              "Classic Cars                27398  3187799.57\n",
              "Vintage Cars                16994  1524347.64\n",
              "Trucks and Buses             9058   949732.82\n",
              "Motorcycles                  9429   931440.81\n",
              "Planes                       8105   739496.69\n",
              "Ships                        6153   529593.41\n",
              "Trains                       2261   184243.72"
            ],
            "text/html": [
              "\n",
              "\n",
              "  <div id=\"df-f128e21a-b1a0-4035-a6eb-1defab4c74fc\">\n",
              "    <div class=\"colab-df-container\">\n",
              "      <div>\n",
              "<style scoped>\n",
              "    .dataframe tbody tr th:only-of-type {\n",
              "        vertical-align: middle;\n",
              "    }\n",
              "\n",
              "    .dataframe tbody tr th {\n",
              "        vertical-align: top;\n",
              "    }\n",
              "\n",
              "    .dataframe thead th {\n",
              "        text-align: right;\n",
              "    }\n",
              "</style>\n",
              "<table border=\"1\" class=\"dataframe\">\n",
              "  <thead>\n",
              "    <tr style=\"text-align: right;\">\n",
              "      <th></th>\n",
              "      <th>QUANTITYORDERED</th>\n",
              "      <th>SALES</th>\n",
              "    </tr>\n",
              "    <tr>\n",
              "      <th>PRODUCTLINE</th>\n",
              "      <th></th>\n",
              "      <th></th>\n",
              "    </tr>\n",
              "  </thead>\n",
              "  <tbody>\n",
              "    <tr>\n",
              "      <th>Classic Cars</th>\n",
              "      <td>27398</td>\n",
              "      <td>3187799.57</td>\n",
              "    </tr>\n",
              "    <tr>\n",
              "      <th>Vintage Cars</th>\n",
              "      <td>16994</td>\n",
              "      <td>1524347.64</td>\n",
              "    </tr>\n",
              "    <tr>\n",
              "      <th>Trucks and Buses</th>\n",
              "      <td>9058</td>\n",
              "      <td>949732.82</td>\n",
              "    </tr>\n",
              "    <tr>\n",
              "      <th>Motorcycles</th>\n",
              "      <td>9429</td>\n",
              "      <td>931440.81</td>\n",
              "    </tr>\n",
              "    <tr>\n",
              "      <th>Planes</th>\n",
              "      <td>8105</td>\n",
              "      <td>739496.69</td>\n",
              "    </tr>\n",
              "    <tr>\n",
              "      <th>Ships</th>\n",
              "      <td>6153</td>\n",
              "      <td>529593.41</td>\n",
              "    </tr>\n",
              "    <tr>\n",
              "      <th>Trains</th>\n",
              "      <td>2261</td>\n",
              "      <td>184243.72</td>\n",
              "    </tr>\n",
              "  </tbody>\n",
              "</table>\n",
              "</div>\n",
              "      <button class=\"colab-df-convert\" onclick=\"convertToInteractive('df-f128e21a-b1a0-4035-a6eb-1defab4c74fc')\"\n",
              "              title=\"Convert this dataframe to an interactive table.\"\n",
              "              style=\"display:none;\">\n",
              "\n",
              "  <svg xmlns=\"http://www.w3.org/2000/svg\" height=\"24px\"viewBox=\"0 0 24 24\"\n",
              "       width=\"24px\">\n",
              "    <path d=\"M0 0h24v24H0V0z\" fill=\"none\"/>\n",
              "    <path d=\"M18.56 5.44l.94 2.06.94-2.06 2.06-.94-2.06-.94-.94-2.06-.94 2.06-2.06.94zm-11 1L8.5 8.5l.94-2.06 2.06-.94-2.06-.94L8.5 2.5l-.94 2.06-2.06.94zm10 10l.94 2.06.94-2.06 2.06-.94-2.06-.94-.94-2.06-.94 2.06-2.06.94z\"/><path d=\"M17.41 7.96l-1.37-1.37c-.4-.4-.92-.59-1.43-.59-.52 0-1.04.2-1.43.59L10.3 9.45l-7.72 7.72c-.78.78-.78 2.05 0 2.83L4 21.41c.39.39.9.59 1.41.59.51 0 1.02-.2 1.41-.59l7.78-7.78 2.81-2.81c.8-.78.8-2.07 0-2.86zM5.41 20L4 18.59l7.72-7.72 1.47 1.35L5.41 20z\"/>\n",
              "  </svg>\n",
              "      </button>\n",
              "\n",
              "\n",
              "\n",
              "    <div id=\"df-835e43eb-35e6-4593-a1b1-435c6de21024\">\n",
              "      <button class=\"colab-df-quickchart\" onclick=\"quickchart('df-835e43eb-35e6-4593-a1b1-435c6de21024')\"\n",
              "              title=\"Suggest charts.\"\n",
              "              style=\"display:none;\">\n",
              "\n",
              "<svg xmlns=\"http://www.w3.org/2000/svg\" height=\"24px\"viewBox=\"0 0 24 24\"\n",
              "     width=\"24px\">\n",
              "    <g>\n",
              "        <path d=\"M19 3H5c-1.1 0-2 .9-2 2v14c0 1.1.9 2 2 2h14c1.1 0 2-.9 2-2V5c0-1.1-.9-2-2-2zM9 17H7v-7h2v7zm4 0h-2V7h2v10zm4 0h-2v-4h2v4z\"/>\n",
              "    </g>\n",
              "</svg>\n",
              "      </button>\n",
              "    </div>\n",
              "\n",
              "<style>\n",
              "  .colab-df-quickchart {\n",
              "    background-color: #E8F0FE;\n",
              "    border: none;\n",
              "    border-radius: 50%;\n",
              "    cursor: pointer;\n",
              "    display: none;\n",
              "    fill: #1967D2;\n",
              "    height: 32px;\n",
              "    padding: 0 0 0 0;\n",
              "    width: 32px;\n",
              "  }\n",
              "\n",
              "  .colab-df-quickchart:hover {\n",
              "    background-color: #E2EBFA;\n",
              "    box-shadow: 0px 1px 2px rgba(60, 64, 67, 0.3), 0px 1px 3px 1px rgba(60, 64, 67, 0.15);\n",
              "    fill: #174EA6;\n",
              "  }\n",
              "\n",
              "  [theme=dark] .colab-df-quickchart {\n",
              "    background-color: #3B4455;\n",
              "    fill: #D2E3FC;\n",
              "  }\n",
              "\n",
              "  [theme=dark] .colab-df-quickchart:hover {\n",
              "    background-color: #434B5C;\n",
              "    box-shadow: 0px 1px 3px 1px rgba(0, 0, 0, 0.15);\n",
              "    filter: drop-shadow(0px 1px 2px rgba(0, 0, 0, 0.3));\n",
              "    fill: #FFFFFF;\n",
              "  }\n",
              "</style>\n",
              "\n",
              "    <script>\n",
              "      async function quickchart(key) {\n",
              "        const containerElement = document.querySelector('#' + key);\n",
              "        const charts = await google.colab.kernel.invokeFunction(\n",
              "            'suggestCharts', [key], {});\n",
              "      }\n",
              "    </script>\n",
              "\n",
              "      <script>\n",
              "\n",
              "function displayQuickchartButton(domScope) {\n",
              "  let quickchartButtonEl =\n",
              "    domScope.querySelector('#df-835e43eb-35e6-4593-a1b1-435c6de21024 button.colab-df-quickchart');\n",
              "  quickchartButtonEl.style.display =\n",
              "    google.colab.kernel.accessAllowed ? 'block' : 'none';\n",
              "}\n",
              "\n",
              "        displayQuickchartButton(document);\n",
              "      </script>\n",
              "      <style>\n",
              "    .colab-df-container {\n",
              "      display:flex;\n",
              "      flex-wrap:wrap;\n",
              "      gap: 12px;\n",
              "    }\n",
              "\n",
              "    .colab-df-convert {\n",
              "      background-color: #E8F0FE;\n",
              "      border: none;\n",
              "      border-radius: 50%;\n",
              "      cursor: pointer;\n",
              "      display: none;\n",
              "      fill: #1967D2;\n",
              "      height: 32px;\n",
              "      padding: 0 0 0 0;\n",
              "      width: 32px;\n",
              "    }\n",
              "\n",
              "    .colab-df-convert:hover {\n",
              "      background-color: #E2EBFA;\n",
              "      box-shadow: 0px 1px 2px rgba(60, 64, 67, 0.3), 0px 1px 3px 1px rgba(60, 64, 67, 0.15);\n",
              "      fill: #174EA6;\n",
              "    }\n",
              "\n",
              "    [theme=dark] .colab-df-convert {\n",
              "      background-color: #3B4455;\n",
              "      fill: #D2E3FC;\n",
              "    }\n",
              "\n",
              "    [theme=dark] .colab-df-convert:hover {\n",
              "      background-color: #434B5C;\n",
              "      box-shadow: 0px 1px 3px 1px rgba(0, 0, 0, 0.15);\n",
              "      filter: drop-shadow(0px 1px 2px rgba(0, 0, 0, 0.3));\n",
              "      fill: #FFFFFF;\n",
              "    }\n",
              "  </style>\n",
              "\n",
              "      <script>\n",
              "        const buttonEl =\n",
              "          document.querySelector('#df-f128e21a-b1a0-4035-a6eb-1defab4c74fc button.colab-df-convert');\n",
              "        buttonEl.style.display =\n",
              "          google.colab.kernel.accessAllowed ? 'block' : 'none';\n",
              "\n",
              "        async function convertToInteractive(key) {\n",
              "          const element = document.querySelector('#df-f128e21a-b1a0-4035-a6eb-1defab4c74fc');\n",
              "          const dataTable =\n",
              "            await google.colab.kernel.invokeFunction('convertToInteractive',\n",
              "                                                     [key], {});\n",
              "          if (!dataTable) return;\n",
              "\n",
              "          const docLinkHtml = 'Like what you see? Visit the ' +\n",
              "            '<a target=\"_blank\" href=https://colab.research.google.com/notebooks/data_table.ipynb>data table notebook</a>'\n",
              "            + ' to learn more about interactive tables.';\n",
              "          element.innerHTML = '';\n",
              "          dataTable['output_type'] = 'display_data';\n",
              "          await google.colab.output.renderOutput(dataTable, element);\n",
              "          const docLink = document.createElement('div');\n",
              "          docLink.innerHTML = docLinkHtml;\n",
              "          element.appendChild(docLink);\n",
              "        }\n",
              "      </script>\n",
              "    </div>\n",
              "  </div>\n"
            ]
          },
          "metadata": {},
          "execution_count": 128
        }
      ]
    },
    {
      "cell_type": "code",
      "source": [
        "#Distribución de cantidades por país y categoria de producto\n",
        "cantidad_categ_pais = ventas_no_cancel.groupby(['COUNTRY','PRODUCTLINE'])['QUANTITYORDERED'].sum()\n",
        "cantidad_categ_pais"
      ],
      "metadata": {
        "id": "4M2k2wxOwzEw",
        "colab": {
          "base_uri": "https://localhost:8080/"
        },
        "outputId": "7b37c7e5-916c-4db5-acb1-b21332631202"
      },
      "execution_count": 129,
      "outputs": [
        {
          "output_type": "execute_result",
          "data": {
            "text/plain": [
              "COUNTRY    PRODUCTLINE     \n",
              "Australia  Classic Cars        1407\n",
              "           Motorcycles          755\n",
              "           Planes               662\n",
              "           Ships                 24\n",
              "           Trains                33\n",
              "                               ... \n",
              "USA        Planes              2884\n",
              "           Ships               1593\n",
              "           Trains               693\n",
              "           Trucks and Buses    3501\n",
              "           Vintage Cars        6276\n",
              "Name: QUANTITYORDERED, Length: 110, dtype: int64"
            ]
          },
          "metadata": {},
          "execution_count": 129
        }
      ]
    },
    {
      "cell_type": "code",
      "source": [
        "#Distribución de cantidades por territorio y categoria de producto\n",
        "cantidad_categ_territorio = ventas_no_cancel.groupby(['TERRITORY','PRODUCTLINE'])['QUANTITYORDERED'].sum()\n",
        "cantidad_categ_territorio"
      ],
      "metadata": {
        "colab": {
          "base_uri": "https://localhost:8080/"
        },
        "id": "KklBjrgvBfcD",
        "outputId": "83720a13-8329-4003-a5c4-77e767475d41"
      },
      "execution_count": 130,
      "outputs": [
        {
          "output_type": "execute_result",
          "data": {
            "text/plain": [
              "TERRITORY  PRODUCTLINE     \n",
              "APAC       Classic Cars         1915\n",
              "           Motorcycles           755\n",
              "           Planes                662\n",
              "           Ships                  24\n",
              "           Trains                 33\n",
              "           Trucks and Buses      892\n",
              "           Vintage Cars         1634\n",
              "EMEA       Classic Cars        14322\n",
              "           Motorcycles          3571\n",
              "           Planes               3480\n",
              "           Ships                3749\n",
              "           Trains               1361\n",
              "           Trucks and Buses     3797\n",
              "           Vintage Cars         8205\n",
              "Japan      Classic Cars         1205\n",
              "           Motorcycles           550\n",
              "           Planes                762\n",
              "           Ships                 301\n",
              "           Trains                174\n",
              "           Trucks and Buses      517\n",
              "           Vintage Cars          438\n",
              "NOAM       Classic Cars         9956\n",
              "           Motorcycles          4553\n",
              "           Planes               3201\n",
              "           Ships                2079\n",
              "           Trains                693\n",
              "           Trucks and Buses     3852\n",
              "           Vintage Cars         6717\n",
              "Name: QUANTITYORDERED, dtype: int64"
            ]
          },
          "metadata": {},
          "execution_count": 130
        }
      ]
    },
    {
      "cell_type": "code",
      "source": [
        "#Top 5 clientes operaciones de mayor monto\n",
        "top_clientes = ventas_no_cancel.groupby(['CUSTOMERNAME','COUNTRY'])['SALES'].sum().sort_values(ascending=False)\n",
        "top_clientes.head(5)"
      ],
      "metadata": {
        "id": "rie5U165y9eJ",
        "colab": {
          "base_uri": "https://localhost:8080/"
        },
        "outputId": "ce424f4b-2f8a-4f4a-f3d5-33bef194186d"
      },
      "execution_count": 131,
      "outputs": [
        {
          "output_type": "execute_result",
          "data": {
            "text/plain": [
              "CUSTOMERNAME                  COUNTRY  \n",
              "Euro Shopping Channel         Spain        535485.29\n",
              "Mini Gifts Distributors Ltd.  USA          441602.38\n",
              "Australian Collectors, Co.    Australia    200995.41\n",
              "Muscle Machine Inc            USA          197736.94\n",
              "Dragon Souveniers, Ltd.       Singapore    168814.08\n",
              "Name: SALES, dtype: float64"
            ]
          },
          "metadata": {},
          "execution_count": 131
        }
      ]
    },
    {
      "cell_type": "markdown",
      "source": [
        "### 6. Visualización gráfica de los datos"
      ],
      "metadata": {
        "id": "RJoerRwaX4kI"
      }
    },
    {
      "cell_type": "code",
      "source": [
        "import matplotlib.pyplot as plt"
      ],
      "metadata": {
        "id": "eLzG4zjc66TJ"
      },
      "execution_count": 132,
      "outputs": []
    },
    {
      "cell_type": "code",
      "source": [
        "#Gráfico de barras: Venta total, agrupado por categoría de producto\n",
        "ventas_categ = ventas_no_cancel.groupby('PRODUCTLINE')['SALES'].sum().sort_values(ascending=False)\n",
        "ventas_categ\n",
        "plt.figure(figsize=(8, 6))\n",
        "plt.bar(ventas_categ.index, ventas_categ.values)\n",
        "plt.xlabel('Categoría')\n",
        "plt.ylabel('Venta U$S')\n",
        "plt.title('Distribución de ventas por categoría de producto')\n",
        "plt.xticks(rotation=90)\n",
        "plt.show()"
      ],
      "metadata": {
        "colab": {
          "base_uri": "https://localhost:8080/",
          "height": 671
        },
        "id": "ePgkXXuz7F28",
        "outputId": "51530b0f-eac9-4c70-da58-ceb298ea019e"
      },
      "execution_count": 133,
      "outputs": [
        {
          "output_type": "display_data",
          "data": {
            "text/plain": [
              "<Figure size 800x600 with 1 Axes>"
            ],
            "image/png": "[encoded data removed]"
          },
          "metadata": {}
        }
      ]
    },
    {
      "cell_type": "markdown",
      "source": [
        "La categoría que más se vende es \"Classic Cars\"."
      ],
      "metadata": {
        "id": "VSYN3s9KSlOU"
      }
    },
    {
      "cell_type": "code",
      "source": [
        "# Gráfico circular: Proporción de ventas por territorio\n",
        "territorio_proporcion = ventas_no_cancel['TERRITORY'].value_counts() / len(ventas_no_cancel) * 100\n",
        "plt.figure(figsize=(5, 4))\n",
        "plt.pie(territorio_proporcion.values, labels=territorio_proporcion.index, autopct='%1.1f%%')\n",
        "plt.title('Proporción de ventas por territorio')\n",
        "plt.axis('equal')\n",
        "plt.show()"
      ],
      "metadata": {
        "colab": {
          "base_uri": "https://localhost:8080/",
          "height": 367
        },
        "id": "0yifsMu9-JXh",
        "outputId": "e3fd77c9-7b56-45e0-fb97-b3eac2a31239"
      },
      "execution_count": 134,
      "outputs": [
        {
          "output_type": "display_data",
          "data": {
            "text/plain": [
              "<Figure size 500x400 with 1 Axes>"
            ],
            "image/png": "[encoded data removed]"
          },
          "metadata": {}
        }
      ]
    },
    {
      "cell_type": "markdown",
      "source": [
        "En el territorio EMEA (Europa, Medio Oriente y África) es donde se registran las mayores ventas, seguido de NOAM (Norteamérica)."
      ],
      "metadata": {
        "id": "0C4tifSDStn_"
      }
    },
    {
      "cell_type": "code",
      "source": [
        "ventas_no_cancel['MONTH_ID']= pd.to_numeric(ventas_no_cancel['MONTH_ID'])"
      ],
      "metadata": {
        "id": "Hz8LR_QAYZVK",
        "colab": {
          "base_uri": "https://localhost:8080/"
        },
        "outputId": "d4c9a04a-4779-4704-f5cb-caa2690a4008"
      },
      "execution_count": 135,
      "outputs": [
        {
          "output_type": "stream",
          "name": "stderr",
          "text": [
            "<ipython-input-135-3b24bed64447>:1: SettingWithCopyWarning: \n",
            "A value is trying to be set on a copy of a slice from a DataFrame.\n",
            "Try using .loc[row_indexer,col_indexer] = value instead\n",
            "\n",
            "See the caveats in the documentation: https://pandas.pydata.org/pandas-docs/stable/user_guide/indexing.html#returning-a-view-versus-a-copy\n",
            "  ventas_no_cancel['MONTH_ID']= pd.to_numeric(ventas_no_cancel['MONTH_ID'])\n"
          ]
        }
      ]
    },
    {
      "cell_type": "code",
      "source": [
        "#Gráfico de líneas: ventas por categoría de producto en cada mes año 2003\n",
        "ventas_2003= ventas_no_cancel.loc[ventas_no_cancel['YEAR_ID'] =='2003'].groupby(['PRODUCTLINE','MONTH_ID'])['SALES'].sum().reset_index().sort_values('MONTH_ID', ascending=True)\n",
        "\n",
        "#Gráfico de líneas para cada categoría\n",
        "plt.figure(figsize=(10,6))\n",
        "for category, data in ventas_2003.groupby('PRODUCTLINE'):\n",
        "    plt.plot(data['MONTH_ID'], data['SALES'], label=category)\n",
        "\n",
        "plt.xlabel('Mes')\n",
        "plt.ylabel('Monto')\n",
        "plt.title('Ventas por categoría de producto en el año 2003')\n",
        "plt.legend()\n",
        "plt.show()"
      ],
      "metadata": {
        "colab": {
          "base_uri": "https://localhost:8080/",
          "height": 565
        },
        "outputId": "2524ae89-be0a-49c7-aab6-d1cedc633eb8",
        "id": "PDBR9SYfMl8Z"
      },
      "execution_count": 136,
      "outputs": [
        {
          "output_type": "display_data",
          "data": {
            "text/plain": [
              "<Figure size 1000x600 with 1 Axes>"
            ],
            "image/png": "[encoded data removed]"
          },
          "metadata": {}
        }
      ]
    },
    {
      "cell_type": "markdown",
      "source": [
        "En el último cuatrimestre del año se observa un incremento en las ventas de las categorías Classic cars, Vintage cars, Truck and buses, Motorcycles y Ships, destacándose Classic cars. Para la categoría Planes, los montos van en descenso hacia el final del año; en tanto que la categoría Trains en general se mantiene. En todos los casos, los montos disminuyen a partir del mes 11."
      ],
      "metadata": {
        "id": "Yqwh3AuCJ9Oy"
      }
    },
    {
      "cell_type": "code",
      "source": [
        "#Gráfico de líneas: ventas por categoría de producto en cada mes año 2004\n",
        "ventas_2004= ventas_no_cancel.loc[ventas_no_cancel['YEAR_ID'] =='2004'].groupby(['PRODUCTLINE','MONTH_ID'])['SALES'].sum().reset_index().sort_values('MONTH_ID', ascending=True)\n",
        "\n",
        "#Gráfico de líneas para cada categoría\n",
        "plt.figure(figsize=(10,6))\n",
        "for category, data in ventas_2004.groupby('PRODUCTLINE'):\n",
        "    plt.plot(data['MONTH_ID'], data['SALES'], label=category)\n",
        "\n",
        "plt.xlabel('Mes')\n",
        "plt.ylabel('Monto')\n",
        "plt.title('Ventas por categoría de producto en el año 2004')\n",
        "plt.legend()\n",
        "plt.show()"
      ],
      "metadata": {
        "colab": {
          "base_uri": "https://localhost:8080/",
          "height": 565
        },
        "outputId": "703c91d5-b64e-46bc-9c64-2b58eca8d766",
        "id": "Q6enWDzWbcXo"
      },
      "execution_count": 137,
      "outputs": [
        {
          "output_type": "display_data",
          "data": {
            "text/plain": [
              "<Figure size 1000x600 with 1 Axes>"
            ],
            "image/png": "[encoded data removed]"
          },
          "metadata": {}
        }
      ]
    },
    {
      "cell_type": "markdown",
      "source": [
        "En el último cuatrimestre del año se observa un incremento en las ventas de las categorías Classic cars, Vintage cars, Motorcycles, Truck and buses, Planes y Ships, destacándose Classic cars como en el año anterior. La categoría Trains en general se mantiene.En todos los casos, los montos disminuyen a partir del mes 11."
      ],
      "metadata": {
        "id": "mweoG22bNRFT"
      }
    },
    {
      "cell_type": "markdown",
      "source": [
        "### 7. Modelado\n",
        "Clusterización con el objetivo de identificar diferentes segmentos de clientes con características similares."
      ],
      "metadata": {
        "id": "KrCH3l8jRnlV"
      }
    },
    {
      "cell_type": "code",
      "source": [
        "####K-MEANS\n",
        "!pip install kmodes\n",
        "import kmodes\n",
        "from kmodes.kprototypes import KPrototypes\n",
        "from sklearn.preprocessing import LabelEncoder\n",
        "\n",
        "import numpy as np"
      ],
      "metadata": {
        "colab": {
          "base_uri": "https://localhost:8080/"
        },
        "id": "poeT4_jP9j-I",
        "outputId": "630ef215-c3a0-47aa-8a5f-b300909674d8"
      },
      "execution_count": 138,
      "outputs": [
        {
          "output_type": "stream",
          "name": "stdout",
          "text": [
            "Requirement already satisfied: kmodes in /usr/local/lib/python3.10/dist-packages (0.12.2)\n",
            "Requirement already satisfied: numpy>=1.10.4 in /usr/local/lib/python3.10/dist-packages (from kmodes) (1.22.4)\n",
            "Requirement already satisfied: scikit-learn>=0.22.0 in /usr/local/lib/python3.10/dist-packages (from kmodes) (1.2.2)\n",
            "Requirement already satisfied: scipy>=0.13.3 in /usr/local/lib/python3.10/dist-packages (from kmodes) (1.10.1)\n",
            "Requirement already satisfied: joblib>=0.11 in /usr/local/lib/python3.10/dist-packages (from kmodes) (1.3.1)\n",
            "Requirement already satisfied: threadpoolctl>=2.0.0 in /usr/local/lib/python3.10/dist-packages (from scikit-learn>=0.22.0->kmodes) (3.2.0)\n"
          ]
        }
      ]
    },
    {
      "cell_type": "code",
      "source": [
        "# Seleccionar las características numéricas para el clustering\n",
        "num_features = ['QUANTITYORDERED', 'PRICEEACH', 'SALES']\n",
        "\n",
        "# Seleccionar las características categóricas para el clustering\n",
        "cat_features = ['STATUS', 'MONTH_ID', 'YEAR_ID', 'PRODUCTLINE', 'PRODUCTCODE', 'CUSTOMERNAME', 'CITY', 'TERRITORY', 'DEALSIZE', 'COUNTRY']"
      ],
      "metadata": {
        "id": "i-GEH1S4-jlN"
      },
      "execution_count": 139,
      "outputs": []
    },
    {
      "cell_type": "code",
      "source": [
        "# Convertir las características categóricas a representación numérica utilizando LabelEncoder\n",
        "label_encoder = LabelEncoder()\n",
        "for feature in cat_features:\n",
        "    ventas_final[feature] = label_encoder.fit_transform(ventas_final[feature])"
      ],
      "metadata": {
        "id": "gT095XQC-wmd"
      },
      "execution_count": 140,
      "outputs": []
    },
    {
      "cell_type": "code",
      "source": [
        "# Convertir los valores de las características numéricas a matrices numpy\n",
        "X_num = ventas_final[num_features].values\n",
        "X_num"
      ],
      "metadata": {
        "colab": {
          "base_uri": "https://localhost:8080/"
        },
        "id": "oUduFHy9_Lef",
        "outputId": "1581589f-5e12-4b56-a942-adff670435d0"
      },
      "execution_count": 141,
      "outputs": [
        {
          "output_type": "execute_result",
          "data": {
            "text/plain": [
              "array([[  30.  ,   95.7 , 2871.  ],\n",
              "       [  34.  ,   81.35, 2765.9 ],\n",
              "       [  41.  ,   94.74, 3884.34],\n",
              "       ...,\n",
              "       [  37.  ,   86.74, 3209.38],\n",
              "       [  42.  ,   97.16, 4080.72],\n",
              "       [  20.  ,  100.  , 2244.4 ]])"
            ]
          },
          "metadata": {},
          "execution_count": 141
        }
      ]
    },
    {
      "cell_type": "code",
      "source": [
        "X_num"
      ],
      "metadata": {
        "colab": {
          "base_uri": "https://localhost:8080/"
        },
        "id": "NImOm6-BAm87",
        "outputId": "1c8392b5-5dfe-4543-f95e-f2e9b48f6187"
      },
      "execution_count": 142,
      "outputs": [
        {
          "output_type": "execute_result",
          "data": {
            "text/plain": [
              "array([[  30.  ,   95.7 , 2871.  ],\n",
              "       [  34.  ,   81.35, 2765.9 ],\n",
              "       [  41.  ,   94.74, 3884.34],\n",
              "       ...,\n",
              "       [  37.  ,   86.74, 3209.38],\n",
              "       [  42.  ,   97.16, 4080.72],\n",
              "       [  20.  ,  100.  , 2244.4 ]])"
            ]
          },
          "metadata": {},
          "execution_count": 142
        }
      ]
    },
    {
      "cell_type": "code",
      "source": [
        "# Convertir los valores de las características categóricas a matrices numpy\n",
        "X_cat = ventas_final[cat_features].values\n",
        "X_cat"
      ],
      "metadata": {
        "colab": {
          "base_uri": "https://localhost:8080/"
        },
        "id": "XBR5MBTp_q8b",
        "outputId": "2405b63d-a3e5-4326-f914-8e228541a66c"
      },
      "execution_count": 143,
      "outputs": [
        {
          "output_type": "execute_result",
          "data": {
            "text/plain": [
              "array([[ 3,  4,  0, ...,  3,  2, 18],\n",
              "       [ 3,  7,  0, ...,  1,  2,  6],\n",
              "       [ 3,  9,  0, ...,  1,  1,  6],\n",
              "       ...,\n",
              "       [ 2,  2,  1, ...,  1,  1,  4],\n",
              "       [ 3,  2,  1, ...,  3,  1, 18],\n",
              "       [ 3,  3,  1, ...,  1,  2, 14]])"
            ]
          },
          "metadata": {},
          "execution_count": 143
        }
      ]
    },
    {
      "cell_type": "code",
      "source": [
        "print(X_cat)"
      ],
      "metadata": {
        "colab": {
          "base_uri": "https://localhost:8080/"
        },
        "id": "sNQcq9W5An4h",
        "outputId": "8de3c33a-19df-4de5-a5f5-1d06a2ce942e"
      },
      "execution_count": 144,
      "outputs": [
        {
          "output_type": "stream",
          "name": "stdout",
          "text": [
            "[[ 3  4  0 ...  3  2 18]\n",
            " [ 3  7  0 ...  1  2  6]\n",
            " [ 3  9  0 ...  1  1  6]\n",
            " ...\n",
            " [ 2  2  1 ...  1  1  4]\n",
            " [ 3  2  1 ...  3  1 18]\n",
            " [ 3  3  1 ...  1  2 14]]\n"
          ]
        }
      ]
    },
    {
      "cell_type": "code",
      "source": [
        "# Combinar las matrices numéricas y categóricas en una sola matriz\n",
        "X = np.concatenate((X_num, X_cat), axis=1)"
      ],
      "metadata": {
        "id": "ViJuftSW_1Ot"
      },
      "execution_count": 145,
      "outputs": []
    },
    {
      "cell_type": "code",
      "source": [
        "print(X)"
      ],
      "metadata": {
        "colab": {
          "base_uri": "https://localhost:8080/"
        },
        "id": "veNmtnbhBFA0",
        "outputId": "c981f79b-725d-4d64-dea4-d905b6ccc391"
      },
      "execution_count": 146,
      "outputs": [
        {
          "output_type": "stream",
          "name": "stdout",
          "text": [
            "[[3.00000e+01 9.57000e+01 2.87100e+03 ... 3.00000e+00 2.00000e+00\n",
            "  1.80000e+01]\n",
            " [3.40000e+01 8.13500e+01 2.76590e+03 ... 1.00000e+00 2.00000e+00\n",
            "  6.00000e+00]\n",
            " [4.10000e+01 9.47400e+01 3.88434e+03 ... 1.00000e+00 1.00000e+00\n",
            "  6.00000e+00]\n",
            " ...\n",
            " [3.70000e+01 8.67400e+01 3.20938e+03 ... 1.00000e+00 1.00000e+00\n",
            "  4.00000e+00]\n",
            " [4.20000e+01 9.71600e+01 4.08072e+03 ... 3.00000e+00 1.00000e+00\n",
            "  1.80000e+01]\n",
            " [2.00000e+01 1.00000e+02 2.24440e+03 ... 1.00000e+00 2.00000e+00\n",
            "  1.40000e+01]]\n"
          ]
        }
      ]
    },
    {
      "cell_type": "code",
      "source": [
        "# Definir el número de clusters que deseas crear\n",
        "num_clusters = 4"
      ],
      "metadata": {
        "id": "Lv2jExM7B8vy"
      },
      "execution_count": 147,
      "outputs": []
    },
    {
      "cell_type": "code",
      "source": [
        "# Crear el modelo K-Prototypes y realizar la clusterización\n",
        "kproto = KPrototypes(n_clusters=num_clusters, init='Cao', verbose=2)\n",
        "clusters = kproto.fit_predict(X, categorical=list(range(len(num_features), X.shape[1])))"
      ],
      "metadata": {
        "colab": {
          "base_uri": "https://localhost:8080/"
        },
        "id": "-AUljXqvCAHK",
        "outputId": "51a8ce70-6653-410b-d2a9-09ad857caa83"
      },
      "execution_count": 148,
      "outputs": [
        {
          "output_type": "stream",
          "name": "stdout",
          "text": [
            "Initialization method and algorithm are deterministic. Setting n_init to 1.\n",
            "Init: initializing centroids\n",
            "Init: initializing clusters\n",
            "Starting iterations...\n",
            "Run: 1, iteration: 1/100, moves: 358, ncost: 862888760.9320421\n",
            "Run: 1, iteration: 2/100, moves: 194, ncost: 813251172.6500156\n",
            "Run: 1, iteration: 3/100, moves: 106, ncost: 797250332.6391414\n",
            "Run: 1, iteration: 4/100, moves: 85, ncost: 786944493.7286059\n",
            "Run: 1, iteration: 5/100, moves: 76, ncost: 779583374.6514899\n",
            "Run: 1, iteration: 6/100, moves: 28, ncost: 778316840.0823642\n",
            "Run: 1, iteration: 7/100, moves: 16, ncost: 777842926.2939813\n",
            "Run: 1, iteration: 8/100, moves: 22, ncost: 777106433.7789692\n",
            "Run: 1, iteration: 9/100, moves: 26, ncost: 775992255.7226464\n",
            "Run: 1, iteration: 10/100, moves: 14, ncost: 775757375.3146294\n",
            "Run: 1, iteration: 11/100, moves: 5, ncost: 775732368.1432159\n",
            "Run: 1, iteration: 12/100, moves: 2, ncost: 775724083.3777028\n",
            "Run: 1, iteration: 13/100, moves: 1, ncost: 775721239.6260905\n",
            "Run: 1, iteration: 14/100, moves: 0, ncost: 775721239.6260905\n",
            "Init: initializing centroids\n",
            "Init: initializing clusters\n",
            "Init: initializing centroids\n",
            "Init: initializing clusters\n",
            "Starting iterations...\n",
            "Run: 2, iteration: 1/100, moves: 156, ncost: 898658169.5390426\n",
            "Run: 2, iteration: 2/100, moves: 187, ncost: 854500418.4629459\n",
            "Run: 2, iteration: 3/100, moves: 167, ncost: 821551516.6981587\n",
            "Run: 2, iteration: 4/100, moves: 118, ncost: 802590487.534499\n",
            "Run: 2, iteration: 5/100, moves: 91, ncost: 787999758.9978261\n",
            "Run: 2, iteration: 6/100, moves: 70, ncost: 780635001.3684628\n",
            "Run: 2, iteration: 7/100, moves: 51, ncost: 776961411.2471944\n",
            "Run: 2, iteration: 8/100, moves: 37, ncost: 775218598.3428173\n",
            "Run: 2, iteration: 9/100, moves: 20, ncost: 774716363.297116\n",
            "Run: 2, iteration: 10/100, moves: 10, ncost: 774508104.2810067\n",
            "Run: 2, iteration: 11/100, moves: 1, ncost: 774506845.2074292\n",
            "Run: 2, iteration: 12/100, moves: 0, ncost: 774506845.2074292\n",
            "Init: initializing centroids\n",
            "Init: initializing clusters\n",
            "Starting iterations...\n",
            "Run: 3, iteration: 1/100, moves: 602, ncost: 1446926168.397419\n",
            "Run: 3, iteration: 2/100, moves: 500, ncost: 1149351831.8106723\n",
            "Run: 3, iteration: 3/100, moves: 377, ncost: 1012032491.3876381\n",
            "Run: 3, iteration: 4/100, moves: 262, ncost: 940865217.5303276\n",
            "Run: 3, iteration: 5/100, moves: 181, ncost: 896503391.7282805\n",
            "Run: 3, iteration: 6/100, moves: 189, ncost: 850489239.266832\n",
            "Run: 3, iteration: 7/100, moves: 163, ncost: 819286071.3093144\n",
            "Run: 3, iteration: 8/100, moves: 113, ncost: 800924255.3818794\n",
            "Run: 3, iteration: 9/100, moves: 97, ncost: 785814566.056439\n",
            "Run: 3, iteration: 10/100, moves: 60, ncost: 780025752.6916763\n",
            "Run: 3, iteration: 11/100, moves: 48, ncost: 776789173.5933421\n",
            "Run: 3, iteration: 12/100, moves: 33, ncost: 775218598.3428181\n",
            "Run: 3, iteration: 13/100, moves: 20, ncost: 774716363.2971159\n",
            "Run: 3, iteration: 14/100, moves: 10, ncost: 774508104.2810061\n",
            "Run: 3, iteration: 15/100, moves: 1, ncost: 774506845.2074282\n",
            "Run: 3, iteration: 16/100, moves: 0, ncost: 774506845.2074282\n",
            "Init: initializing centroids\n",
            "Init: initializing clusters\n",
            "Starting iterations...\n",
            "Run: 4, iteration: 1/100, moves: 778, ncost: 865083813.6203593\n",
            "Run: 4, iteration: 2/100, moves: 261, ncost: 786132677.1814077\n",
            "Run: 4, iteration: 3/100, moves: 92, ncost: 776056526.4198191\n",
            "Run: 4, iteration: 4/100, moves: 40, ncost: 774618491.8062563\n",
            "Run: 4, iteration: 5/100, moves: 16, ncost: 774391258.128666\n",
            "Run: 4, iteration: 6/100, moves: 7, ncost: 774309791.474575\n",
            "Run: 4, iteration: 7/100, moves: 5, ncost: 774285948.4647274\n",
            "Run: 4, iteration: 8/100, moves: 1, ncost: 774284647.9248338\n",
            "Run: 4, iteration: 9/100, moves: 0, ncost: 774284647.9248338\n",
            "Init: initializing centroids\n",
            "Init: initializing clusters\n",
            "Starting iterations...\n",
            "Run: 5, iteration: 1/100, moves: 450, ncost: 818433072.366945\n",
            "Run: 5, iteration: 2/100, moves: 178, ncost: 779299028.5116291\n",
            "Run: 5, iteration: 3/100, moves: 59, ncost: 774684428.7749102\n",
            "Run: 5, iteration: 4/100, moves: 17, ncost: 774338480.6216418\n",
            "Run: 5, iteration: 5/100, moves: 9, ncost: 774267551.3024936\n",
            "Run: 5, iteration: 6/100, moves: 6, ncost: 774237537.0103437\n",
            "Run: 5, iteration: 7/100, moves: 8, ncost: 774175044.3425574\n",
            "Run: 5, iteration: 8/100, moves: 6, ncost: 774147411.3909489\n",
            "Run: 5, iteration: 9/100, moves: 6, ncost: 774101468.7091513\n",
            "Run: 5, iteration: 10/100, moves: 3, ncost: 774081467.533936\n",
            "Run: 5, iteration: 11/100, moves: 0, ncost: 774081467.533936\n",
            "Init: initializing centroids\n",
            "Init: initializing clusters\n",
            "Starting iterations...\n",
            "Run: 6, iteration: 1/100, moves: 641, ncost: 1124236006.5954578\n",
            "Run: 6, iteration: 2/100, moves: 300, ncost: 973232162.4337133\n",
            "Run: 6, iteration: 3/100, moves: 209, ncost: 908301500.2030898\n",
            "Run: 6, iteration: 4/100, moves: 181, ncost: 862054863.3190843\n",
            "Run: 6, iteration: 5/100, moves: 174, ncost: 827547676.0700054\n",
            "Run: 6, iteration: 6/100, moves: 131, ncost: 804315596.9461569\n",
            "Run: 6, iteration: 7/100, moves: 101, ncost: 788710809.5248775\n",
            "Run: 6, iteration: 8/100, moves: 74, ncost: 780635001.3684639\n",
            "Run: 6, iteration: 9/100, moves: 51, ncost: 776961411.2471948\n",
            "Run: 6, iteration: 10/100, moves: 37, ncost: 775218598.3428173\n",
            "Run: 6, iteration: 11/100, moves: 20, ncost: 774716363.2971166\n",
            "Run: 6, iteration: 12/100, moves: 10, ncost: 774508104.2810061\n",
            "Run: 6, iteration: 13/100, moves: 1, ncost: 774506845.2074285\n",
            "Run: 6, iteration: 14/100, moves: 0, ncost: 774506845.2074285\n",
            "Init: initializing centroids\n",
            "Init: initializing clusters\n",
            "Starting iterations...\n",
            "Run: 7, iteration: 1/100, moves: 411, ncost: 1019873713.6414267\n",
            "Run: 7, iteration: 2/100, moves: 315, ncost: 938753577.5998384\n",
            "Run: 7, iteration: 3/100, moves: 204, ncost: 892853722.4404014\n",
            "Run: 7, iteration: 4/100, moves: 190, ncost: 848734804.3699567\n",
            "Run: 7, iteration: 5/100, moves: 163, ncost: 818089681.5437948\n",
            "Run: 7, iteration: 6/100, moves: 111, ncost: 800772806.4910271\n",
            "Run: 7, iteration: 7/100, moves: 96, ncost: 785814566.0564376\n",
            "Run: 7, iteration: 8/100, moves: 60, ncost: 780025752.6916759\n",
            "Run: 7, iteration: 9/100, moves: 48, ncost: 776789173.5933418\n",
            "Run: 7, iteration: 10/100, moves: 33, ncost: 775218598.342817\n",
            "Run: 7, iteration: 11/100, moves: 20, ncost: 774716363.2971168\n",
            "Run: 7, iteration: 12/100, moves: 10, ncost: 774508104.2810065\n",
            "Run: 7, iteration: 13/100, moves: 1, ncost: 774506845.2074286\n",
            "Run: 7, iteration: 14/100, moves: 0, ncost: 774506845.2074286\n",
            "Init: initializing centroids\n",
            "Init: initializing clusters\n",
            "Starting iterations...\n",
            "Run: 8, iteration: 1/100, moves: 447, ncost: 840816872.5752447\n",
            "Run: 8, iteration: 2/100, moves: 204, ncost: 797780373.1395441\n",
            "Run: 8, iteration: 3/100, moves: 87, ncost: 787306595.0436964\n",
            "Run: 8, iteration: 4/100, moves: 79, ncost: 779845148.0295392\n",
            "Run: 8, iteration: 5/100, moves: 34, ncost: 778316840.082364\n",
            "Run: 8, iteration: 6/100, moves: 16, ncost: 777842926.2939802\n",
            "Run: 8, iteration: 7/100, moves: 22, ncost: 777106433.7789688\n",
            "Run: 8, iteration: 8/100, moves: 26, ncost: 775992255.7226462\n",
            "Run: 8, iteration: 9/100, moves: 14, ncost: 775757375.3146279\n",
            "Run: 8, iteration: 10/100, moves: 5, ncost: 775732368.1432164\n",
            "Run: 8, iteration: 11/100, moves: 2, ncost: 775724083.3777028\n",
            "Run: 8, iteration: 12/100, moves: 1, ncost: 775721239.6260903\n",
            "Run: 8, iteration: 13/100, moves: 0, ncost: 775721239.6260903\n",
            "Init: initializing centroids\n",
            "Init: initializing clusters\n",
            "Starting iterations...\n",
            "Run: 9, iteration: 1/100, moves: 662, ncost: 1080383565.1122673\n",
            "Run: 9, iteration: 2/100, moves: 300, ncost: 940543391.3877602\n",
            "Run: 9, iteration: 3/100, moves: 170, ncost: 887043980.9192685\n",
            "Run: 9, iteration: 4/100, moves: 181, ncost: 840985168.9799744\n",
            "Run: 9, iteration: 5/100, moves: 143, ncost: 812823584.8312576\n",
            "Run: 9, iteration: 6/100, moves: 97, ncost: 797746787.4309962\n",
            "Run: 9, iteration: 7/100, moves: 98, ncost: 783177959.1423943\n",
            "Run: 9, iteration: 8/100, moves: 54, ncost: 778980164.2903963\n",
            "Run: 9, iteration: 9/100, moves: 41, ncost: 776409137.3084573\n",
            "Run: 9, iteration: 10/100, moves: 32, ncost: 774948960.7474983\n",
            "Run: 9, iteration: 11/100, moves: 17, ncost: 774532891.5026906\n",
            "Run: 9, iteration: 12/100, moves: 5, ncost: 774506845.2074287\n",
            "Run: 9, iteration: 13/100, moves: 0, ncost: 774506845.2074287\n",
            "Init: initializing centroids\n",
            "Init: initializing clusters\n",
            "Starting iterations...\n",
            "Run: 10, iteration: 1/100, moves: 318, ncost: 803952550.5327613\n",
            "Run: 10, iteration: 2/100, moves: 151, ncost: 781337475.2046795\n",
            "Run: 10, iteration: 3/100, moves: 66, ncost: 776843401.2937312\n",
            "Run: 10, iteration: 4/100, moves: 32, ncost: 775792904.4454353\n",
            "Run: 10, iteration: 5/100, moves: 17, ncost: 775296966.2200985\n",
            "Run: 10, iteration: 6/100, moves: 15, ncost: 774960340.5723034\n",
            "Run: 10, iteration: 7/100, moves: 12, ncost: 774766155.1226822\n",
            "Run: 10, iteration: 8/100, moves: 6, ncost: 774546842.2365904\n",
            "Run: 10, iteration: 9/100, moves: 11, ncost: 774351872.5186254\n",
            "Run: 10, iteration: 10/100, moves: 7, ncost: 774289846.9683598\n",
            "Run: 10, iteration: 11/100, moves: 2, ncost: 774284647.9248341\n",
            "Run: 10, iteration: 12/100, moves: 0, ncost: 774284647.9248341\n",
            "Best run was number 5\n"
          ]
        }
      ]
    },
    {
      "cell_type": "code",
      "source": [
        "# Agregar los resultados de la clusterización al DataFrame original\n",
        "ventas_final['CLUSTER'] = clusters"
      ],
      "metadata": {
        "id": "5CgEoAacEl7y"
      },
      "execution_count": 149,
      "outputs": []
    },
    {
      "cell_type": "code",
      "source": [
        "# Mostrar los resultados\n",
        "print(ventas_final[['COUNTRY', 'CLUSTER']])"
      ],
      "metadata": {
        "colab": {
          "base_uri": "https://localhost:8080/"
        },
        "id": "xumpwI0IEury",
        "outputId": "5c5472a2-1c79-467f-d161-dc0d7aeaa031"
      },
      "execution_count": 151,
      "outputs": [
        {
          "output_type": "stream",
          "name": "stdout",
          "text": [
            "      COUNTRY  CLUSTER\n",
            "0          18        0\n",
            "1           6        0\n",
            "2           6        0\n",
            "3          18        0\n",
            "4          18        1\n",
            "...       ...      ...\n",
            "2814       17        3\n",
            "2815        6        3\n",
            "2816        4        0\n",
            "2817       18        0\n",
            "2818       14        3\n",
            "\n",
            "[2345 rows x 2 columns]\n"
          ]
        }
      ]
    },
    {
      "cell_type": "code",
      "source": [
        "print(ventas_final[['TERRITORY', 'CLUSTER']])"
      ],
      "metadata": {
        "colab": {
          "base_uri": "https://localhost:8080/"
        },
        "id": "qpNEU3s0E4R2",
        "outputId": "2b658ca3-8ee8-44f6-81f6-f465f5fd2c7b"
      },
      "execution_count": 152,
      "outputs": [
        {
          "output_type": "stream",
          "name": "stdout",
          "text": [
            "      TERRITORY  CLUSTER\n",
            "0             3        0\n",
            "1             1        0\n",
            "2             1        0\n",
            "3             3        0\n",
            "4             3        1\n",
            "...         ...      ...\n",
            "2814          1        3\n",
            "2815          1        3\n",
            "2816          1        0\n",
            "2817          3        0\n",
            "2818          1        3\n",
            "\n",
            "[2345 rows x 2 columns]\n"
          ]
        }
      ]
    },
    {
      "cell_type": "code",
      "source": [
        "# Mostrar las características promedio de cada cluster\n",
        "cluster_means = ventas_final.groupby('CLUSTER').mean()\n",
        "print(cluster_means)"
      ],
      "metadata": {
        "colab": {
          "base_uri": "https://localhost:8080/"
        },
        "id": "9MmPaCVnE4In",
        "outputId": "5348a89a-b3db-41b9-fa24-ce0f63ed5984"
      },
      "execution_count": 154,
      "outputs": [
        {
          "output_type": "stream",
          "name": "stdout",
          "text": [
            "         QUANTITYORDERED   PRICEEACH        SALES    STATUS  MONTH_ID  \\\n",
            "CLUSTER                                                                 \n",
            "0              34.648428   89.584342  3328.774959  2.885914  4.584400   \n",
            "1              39.719745   99.503439  5095.476921  2.936306  4.583864   \n",
            "2              43.772021  100.000000  7531.585959  2.937824  4.740933   \n",
            "3              29.826034   64.674173  1859.073881  2.917275  4.672749   \n",
            "\n",
            "          YEAR_ID  PRODUCTLINE  PRODUCTCODE  CUSTOMERNAME       CITY  \\\n",
            "CLUSTER                                                                \n",
            "0        0.582072     2.516880    56.357392     46.232829  37.096624   \n",
            "1        0.554140     2.197452    41.216561     46.454352  37.424628   \n",
            "2        0.606218     1.518135    26.979275     44.849741  38.621762   \n",
            "3        0.568127     2.935523    64.439173     44.194647  37.457421   \n",
            "\n",
            "           COUNTRY  TERRITORY  DEALSIZE  \n",
            "CLUSTER                                  \n",
            "0        12.288708   1.748545  1.298021  \n",
            "1        12.467091   1.747346  1.000000  \n",
            "2        11.994819   1.735751  0.393782  \n",
            "3        11.985401   1.731144  2.000000  \n"
          ]
        }
      ]
    },
    {
      "cell_type": "code",
      "source": [
        "# Gráfico de dispersión\n",
        "feature1 = 'QUANTITYORDERED'\n",
        "feature2 = 'SALES' #'PRICEEACH'\n",
        "\n",
        "# Creación del gráfico de dispersión\n",
        "plt.scatter(ventas_final[feature1], ventas_final[feature2], c=ventas_final['CLUSTER'], cmap='viridis')\n",
        "plt.xlabel(feature1)\n",
        "plt.ylabel(feature2)\n",
        "plt.title('Gráfico de dispersión 2D de las muestras y sus clusters')\n",
        "plt.colorbar(label='Cluster')\n",
        "plt.show()"
      ],
      "metadata": {
        "colab": {
          "base_uri": "https://localhost:8080/",
          "height": 472
        },
        "id": "-HzmCYGEFhBb",
        "outputId": "5accb849-fa39-495b-a683-e7bc46e37deb"
      },
      "execution_count": 155,
      "outputs": [
        {
          "output_type": "display_data",
          "data": {
            "text/plain": [
              "<Figure size 640x480 with 2 Axes>"
            ],
            "image/png": "[encoded data removed]"
          },
          "metadata": {}
        }
      ]
    }
  ]
}